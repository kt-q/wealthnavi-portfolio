{
 "cells": [
  {
   "cell_type": "markdown",
   "metadata": {},
   "source": [
    "# WealthNaviのポートフォリオ最適化\n",
    "\n",
    "#### 参考URL: https://datacoach.me/investment/long-inv/python-wealthnavi/\n",
    "\n",
    "\n",
    "\n",
    "[WealthNaviの資産運用アルゴリズム](https://www.wealthnavi.com/image/WealthNavi_WhitePaper.pdf)\n",
    "- 平均分散法によって資産クラスの最適化を行う\n",
    "- リスク許容度に応じた最適ポートフォリオは以下の（非線形）最大化問題の解となる資産配分比率(w)を求めることによって求まる\n",
    "\n",
    "$$\n",
    "max(\\mathbf{w})  \\quad  \\mathbf{r^T w} - \\frac{1}{2 \\lambda} \\mathbf{w^T \\Sigma w} \\\\\n",
    "s.t.  \\  \\mathbf{w^T 1}=1,  \\  a \\leqq \\mathbf{w} \\leqq b \\\\\n",
    "$$  \n",
    "\n",
    "$$\n",
    "\\begin{align}\n",
    "  & \\mathbf{r}: & &各資産クラスの期待リターン  \\\\\n",
    "  & \\mathbf{\\Sigma}: & &分散・共分散行列  \\\\\n",
    "  & \\mathbf{w}: & &各資産クラスへの配分比率  \\\\\n",
    "  & \\mathbf{\\lambda}: & &リスク許容度（1 - 5）に応じた係数  \\\\\n",
    "  & \\mathbf{a}: & &各銘柄への配分比率の下限  \\\\\n",
    "  & \\mathbf{b}: & &各銘柄への配分比率の上限  \\\\\n",
    "\\end{align}\n",
    "$$ \n",
    "\n",
    "\n",
    "\n",
    "#### 線形・非線形問題\n",
    "https://ajhjhaf.hatenablog.com/entry/2018/02/12/235015  \n",
    "https://ki-chi.jp/?p=582  \n",
    "https://longtweets.hatenablog.com/entry/2019/01/04/055820\n",
    "\n",
    "- PULP　（線形問題のみ）  \n",
    "    - https://coin-or.github.io/pulp/\n",
    "    - https://docs.pyq.jp/python/math_opt/pulp.html\n",
    "    - https://qiita.com/SaitoTsutomu/items/070ca9cb37c6b2b492f0\n",
    "- CYXOPT（非線形問題に対応）\n",
    "    - http://cvxopt.org/index.html\n",
    "    - https://qiita.com/ryoshi81/items/8b0c6add3e367f94c828\n",
    "- PyPortfolioOpt　（ポートフォリオ最適化問題に特化したパッケージ）\n",
    "    - https://pyportfolioopt.readthedocs.io/en/latest/index.html\n",
    "    - https://qiita.com/ryoshi81/items/c2445a5705b495002c1d\n",
    "    "
   ]
  },
  {
   "cell_type": "code",
   "execution_count": 1,
   "metadata": {},
   "outputs": [],
   "source": [
    "%matplotlib inline\n",
    "import os, sys, math\n",
    "import numpy as np\n",
    "import pandas as pd\n",
    "from matplotlib import pyplot as plt\n",
    "import seaborn as sns\n",
    "from pypfopt.efficient_frontier import EfficientFrontier"
   ]
  },
  {
   "cell_type": "markdown",
   "metadata": {},
   "source": [
    "## Load data"
   ]
  },
  {
   "cell_type": "code",
   "execution_count": 2,
   "metadata": {},
   "outputs": [],
   "source": [
    "# correlations between asset classes\n",
    "\n",
    "S = pd.read_csv('assetclass_correlation_202002.csv', index_col=0)"
   ]
  },
  {
   "cell_type": "code",
   "execution_count": 3,
   "metadata": {},
   "outputs": [
    {
     "data": {
      "text/html": [
       "<div>\n",
       "<style scoped>\n",
       "    .dataframe tbody tr th:only-of-type {\n",
       "        vertical-align: middle;\n",
       "    }\n",
       "\n",
       "    .dataframe tbody tr th {\n",
       "        vertical-align: top;\n",
       "    }\n",
       "\n",
       "    .dataframe thead th {\n",
       "        text-align: right;\n",
       "    }\n",
       "</style>\n",
       "<table border=\"1\" class=\"dataframe\">\n",
       "  <thead>\n",
       "    <tr style=\"text-align: right;\">\n",
       "      <th></th>\n",
       "      <th>Stock-US</th>\n",
       "      <th>Stock-Jpn/EU</th>\n",
       "      <th>Stock-Emerging</th>\n",
       "      <th>Bonds-US</th>\n",
       "      <th>Bonds-PriceLinked</th>\n",
       "      <th>Gold</th>\n",
       "      <th>RealEstate</th>\n",
       "    </tr>\n",
       "    <tr>\n",
       "      <th>Class</th>\n",
       "      <th></th>\n",
       "      <th></th>\n",
       "      <th></th>\n",
       "      <th></th>\n",
       "      <th></th>\n",
       "      <th></th>\n",
       "      <th></th>\n",
       "    </tr>\n",
       "  </thead>\n",
       "  <tbody>\n",
       "    <tr>\n",
       "      <th>Stock-US</th>\n",
       "      <td>1.0</td>\n",
       "      <td>0.9</td>\n",
       "      <td>0.7</td>\n",
       "      <td>-0.2</td>\n",
       "      <td>0.0</td>\n",
       "      <td>0.0</td>\n",
       "      <td>0.6</td>\n",
       "    </tr>\n",
       "    <tr>\n",
       "      <th>Stock-Jpn/EU</th>\n",
       "      <td>0.9</td>\n",
       "      <td>1.0</td>\n",
       "      <td>0.8</td>\n",
       "      <td>-0.1</td>\n",
       "      <td>0.1</td>\n",
       "      <td>0.1</td>\n",
       "      <td>0.6</td>\n",
       "    </tr>\n",
       "    <tr>\n",
       "      <th>Stock-Emerging</th>\n",
       "      <td>0.7</td>\n",
       "      <td>0.8</td>\n",
       "      <td>1.0</td>\n",
       "      <td>0.0</td>\n",
       "      <td>0.2</td>\n",
       "      <td>0.3</td>\n",
       "      <td>0.5</td>\n",
       "    </tr>\n",
       "    <tr>\n",
       "      <th>Bonds-US</th>\n",
       "      <td>-0.2</td>\n",
       "      <td>-0.1</td>\n",
       "      <td>0.0</td>\n",
       "      <td>1.0</td>\n",
       "      <td>0.8</td>\n",
       "      <td>0.4</td>\n",
       "      <td>0.3</td>\n",
       "    </tr>\n",
       "    <tr>\n",
       "      <th>Bonds -Price Linked</th>\n",
       "      <td>0.0</td>\n",
       "      <td>0.1</td>\n",
       "      <td>0.2</td>\n",
       "      <td>0.8</td>\n",
       "      <td>1.0</td>\n",
       "      <td>0.5</td>\n",
       "      <td>0.4</td>\n",
       "    </tr>\n",
       "    <tr>\n",
       "      <th>Gold</th>\n",
       "      <td>0.0</td>\n",
       "      <td>0.1</td>\n",
       "      <td>0.3</td>\n",
       "      <td>0.4</td>\n",
       "      <td>0.5</td>\n",
       "      <td>1.0</td>\n",
       "      <td>0.1</td>\n",
       "    </tr>\n",
       "    <tr>\n",
       "      <th>RealEstate</th>\n",
       "      <td>0.6</td>\n",
       "      <td>0.6</td>\n",
       "      <td>0.5</td>\n",
       "      <td>0.3</td>\n",
       "      <td>0.4</td>\n",
       "      <td>0.1</td>\n",
       "      <td>1.0</td>\n",
       "    </tr>\n",
       "  </tbody>\n",
       "</table>\n",
       "</div>"
      ],
      "text/plain": [
       "                     Stock-US  Stock-Jpn/EU  Stock-Emerging  Bonds-US  \\\n",
       "Class                                                                   \n",
       "Stock-US                  1.0           0.9             0.7      -0.2   \n",
       "Stock-Jpn/EU              0.9           1.0             0.8      -0.1   \n",
       "Stock-Emerging            0.7           0.8             1.0       0.0   \n",
       "Bonds-US                 -0.2          -0.1             0.0       1.0   \n",
       "Bonds -Price Linked       0.0           0.1             0.2       0.8   \n",
       "Gold                      0.0           0.1             0.3       0.4   \n",
       "RealEstate                0.6           0.6             0.5       0.3   \n",
       "\n",
       "                     Bonds-PriceLinked  Gold  RealEstate  \n",
       "Class                                                     \n",
       "Stock-US                           0.0   0.0         0.6  \n",
       "Stock-Jpn/EU                       0.1   0.1         0.6  \n",
       "Stock-Emerging                     0.2   0.3         0.5  \n",
       "Bonds-US                           0.8   0.4         0.3  \n",
       "Bonds -Price Linked                1.0   0.5         0.4  \n",
       "Gold                               0.5   1.0         0.1  \n",
       "RealEstate                         0.4   0.1         1.0  "
      ]
     },
     "execution_count": 3,
     "metadata": {},
     "output_type": "execute_result"
    }
   ],
   "source": [
    "S"
   ]
  },
  {
   "cell_type": "code",
   "execution_count": 4,
   "metadata": {},
   "outputs": [],
   "source": [
    "cor = S.values\n",
    "#print(S.shape)"
   ]
  },
  {
   "cell_type": "code",
   "execution_count": 5,
   "metadata": {},
   "outputs": [
    {
     "data": {
      "text/plain": [
       "array([[ 1. ,  0.9,  0.7, -0.2,  0. ,  0. ,  0.6],\n",
       "       [ 0.9,  1. ,  0.8, -0.1,  0.1,  0.1,  0.6],\n",
       "       [ 0.7,  0.8,  1. ,  0. ,  0.2,  0.3,  0.5],\n",
       "       [-0.2, -0.1,  0. ,  1. ,  0.8,  0.4,  0.3],\n",
       "       [ 0. ,  0.1,  0.2,  0.8,  1. ,  0.5,  0.4],\n",
       "       [ 0. ,  0.1,  0.3,  0.4,  0.5,  1. ,  0.1],\n",
       "       [ 0.6,  0.6,  0.5,  0.3,  0.4,  0.1,  1. ]])"
      ]
     },
     "execution_count": 5,
     "metadata": {},
     "output_type": "execute_result"
    }
   ],
   "source": [
    "cor"
   ]
  },
  {
   "cell_type": "code",
   "execution_count": 6,
   "metadata": {},
   "outputs": [],
   "source": [
    "name = list(S.columns.values)"
   ]
  },
  {
   "cell_type": "code",
   "execution_count": 7,
   "metadata": {},
   "outputs": [
    {
     "data": {
      "text/plain": [
       "['Stock-US',\n",
       " 'Stock-Jpn/EU',\n",
       " 'Stock-Emerging',\n",
       " 'Bonds-US',\n",
       " 'Bonds-PriceLinked',\n",
       " 'Gold',\n",
       " 'RealEstate']"
      ]
     },
     "execution_count": 7,
     "metadata": {},
     "output_type": "execute_result"
    }
   ],
   "source": [
    "name"
   ]
  },
  {
   "cell_type": "code",
   "execution_count": 8,
   "metadata": {},
   "outputs": [],
   "source": [
    "# risk of each class\n",
    "\n",
    "risk = {}\n",
    "risk[\"Stock-US\"] = 12.5/100\n",
    "risk[\"Stock-Jpn/EU\"] = 13.6/100\n",
    "risk[\"Stock-Emerging\"] = 16.7/100\n",
    "risk[\"Bonds-US\"] = 3.1/100\n",
    "risk[\"Bonds-PriceLinked\"] = 4.1/100\n",
    "risk[\"Gold\"] = 15.0/100\n",
    "risk[\"RealEstate\"] = 13.4/100"
   ]
  },
  {
   "cell_type": "code",
   "execution_count": 9,
   "metadata": {},
   "outputs": [],
   "source": [
    "# convert to numpy array\n",
    "\n",
    "risk = np.array(list(risk.values()))\n",
    "#risk = risk.reshape(len(risk),1)\n",
    "#print(risk.shape)"
   ]
  },
  {
   "cell_type": "code",
   "execution_count": 10,
   "metadata": {},
   "outputs": [
    {
     "data": {
      "text/plain": [
       "array([0.125, 0.136, 0.167, 0.031, 0.041, 0.15 , 0.134])"
      ]
     },
     "execution_count": 10,
     "metadata": {},
     "output_type": "execute_result"
    }
   ],
   "source": [
    "risk"
   ]
  },
  {
   "cell_type": "code",
   "execution_count": 11,
   "metadata": {},
   "outputs": [],
   "source": [
    "# expected return from each class\n",
    "\n",
    "val = {}\n",
    "val[\"Stock-US\"] = 7.2/100\n",
    "val[\"Stock-Jpn/EU\"] = 7.7/100\n",
    "val[\"Stock-Emerging\"] = (8.5+0.00000000001)/100\n",
    "val[\"Bonds-US\"] = 2.3/100\n",
    "val[\"Bonds-PriceLinked\"] = 2.6/100\n",
    "val[\"Gold\"] = 3.8/100\n",
    "val[\"RealEstate\"] = 5.7/100"
   ]
  },
  {
   "cell_type": "code",
   "execution_count": 12,
   "metadata": {},
   "outputs": [],
   "source": [
    "# convert to numpy array\n",
    "\n",
    "val = np.array(list(val.values()))\n",
    "#val = val.reshape(len(val),1)\n",
    "#print(val.shape)"
   ]
  },
  {
   "cell_type": "code",
   "execution_count": 13,
   "metadata": {},
   "outputs": [
    {
     "data": {
      "text/plain": [
       "array([0.072, 0.077, 0.085, 0.023, 0.026, 0.038, 0.057])"
      ]
     },
     "execution_count": 13,
     "metadata": {},
     "output_type": "execute_result"
    }
   ],
   "source": [
    "val"
   ]
  },
  {
   "cell_type": "markdown",
   "metadata": {},
   "source": [
    "## Diagonalize risk vector and obtain covariance matrix using correlation matrix"
   ]
  },
  {
   "cell_type": "code",
   "execution_count": 14,
   "metadata": {},
   "outputs": [],
   "source": [
    "r_diag = np.diag(risk)"
   ]
  },
  {
   "cell_type": "code",
   "execution_count": 15,
   "metadata": {},
   "outputs": [
    {
     "data": {
      "text/plain": [
       "array([[0.125, 0.   , 0.   , 0.   , 0.   , 0.   , 0.   ],\n",
       "       [0.   , 0.136, 0.   , 0.   , 0.   , 0.   , 0.   ],\n",
       "       [0.   , 0.   , 0.167, 0.   , 0.   , 0.   , 0.   ],\n",
       "       [0.   , 0.   , 0.   , 0.031, 0.   , 0.   , 0.   ],\n",
       "       [0.   , 0.   , 0.   , 0.   , 0.041, 0.   , 0.   ],\n",
       "       [0.   , 0.   , 0.   , 0.   , 0.   , 0.15 , 0.   ],\n",
       "       [0.   , 0.   , 0.   , 0.   , 0.   , 0.   , 0.134]])"
      ]
     },
     "execution_count": 15,
     "metadata": {},
     "output_type": "execute_result"
    }
   ],
   "source": [
    "r_diag"
   ]
  },
  {
   "cell_type": "code",
   "execution_count": 16,
   "metadata": {},
   "outputs": [],
   "source": [
    "cov = np.dot(np.dot(r_diag, cor), r_diag)"
   ]
  },
  {
   "cell_type": "code",
   "execution_count": 17,
   "metadata": {},
   "outputs": [
    {
     "data": {
      "text/plain": [
       "array([[ 0.015625 ,  0.0153   ,  0.0146125, -0.000775 ,  0.       ,\n",
       "         0.       ,  0.01005  ],\n",
       "       [ 0.0153   ,  0.018496 ,  0.0181696, -0.0004216,  0.0005576,\n",
       "         0.00204  ,  0.0109344],\n",
       "       [ 0.0146125,  0.0181696,  0.027889 ,  0.       ,  0.0013694,\n",
       "         0.007515 ,  0.011189 ],\n",
       "       [-0.000775 , -0.0004216,  0.       ,  0.000961 ,  0.0010168,\n",
       "         0.00186  ,  0.0012462],\n",
       "       [ 0.       ,  0.0005576,  0.0013694,  0.0010168,  0.001681 ,\n",
       "         0.003075 ,  0.0021976],\n",
       "       [ 0.       ,  0.00204  ,  0.007515 ,  0.00186  ,  0.003075 ,\n",
       "         0.0225   ,  0.00201  ],\n",
       "       [ 0.01005  ,  0.0109344,  0.011189 ,  0.0012462,  0.0021976,\n",
       "         0.00201  ,  0.017956 ]])"
      ]
     },
     "execution_count": 17,
     "metadata": {},
     "output_type": "execute_result"
    }
   ],
   "source": [
    "cov"
   ]
  },
  {
   "cell_type": "code",
   "execution_count": 18,
   "metadata": {},
   "outputs": [
    {
     "data": {
      "text/html": [
       "<div>\n",
       "<style scoped>\n",
       "    .dataframe tbody tr th:only-of-type {\n",
       "        vertical-align: middle;\n",
       "    }\n",
       "\n",
       "    .dataframe tbody tr th {\n",
       "        vertical-align: top;\n",
       "    }\n",
       "\n",
       "    .dataframe thead th {\n",
       "        text-align: right;\n",
       "    }\n",
       "</style>\n",
       "<table border=\"1\" class=\"dataframe\">\n",
       "  <thead>\n",
       "    <tr style=\"text-align: right;\">\n",
       "      <th></th>\n",
       "      <th>Stock-US</th>\n",
       "      <th>Stock-Jpn/EU</th>\n",
       "      <th>Stock-Emerging</th>\n",
       "      <th>Bonds-US</th>\n",
       "      <th>Bonds-PriceLinked</th>\n",
       "      <th>Gold</th>\n",
       "      <th>RealEstate</th>\n",
       "    </tr>\n",
       "  </thead>\n",
       "  <tbody>\n",
       "    <tr>\n",
       "      <th>Stock-US</th>\n",
       "      <td>0.015625</td>\n",
       "      <td>0.015300</td>\n",
       "      <td>0.014612</td>\n",
       "      <td>-0.000775</td>\n",
       "      <td>0.000000</td>\n",
       "      <td>0.000000</td>\n",
       "      <td>0.010050</td>\n",
       "    </tr>\n",
       "    <tr>\n",
       "      <th>Stock-Jpn/EU</th>\n",
       "      <td>0.015300</td>\n",
       "      <td>0.018496</td>\n",
       "      <td>0.018170</td>\n",
       "      <td>-0.000422</td>\n",
       "      <td>0.000558</td>\n",
       "      <td>0.002040</td>\n",
       "      <td>0.010934</td>\n",
       "    </tr>\n",
       "    <tr>\n",
       "      <th>Stock-Emerging</th>\n",
       "      <td>0.014612</td>\n",
       "      <td>0.018170</td>\n",
       "      <td>0.027889</td>\n",
       "      <td>0.000000</td>\n",
       "      <td>0.001369</td>\n",
       "      <td>0.007515</td>\n",
       "      <td>0.011189</td>\n",
       "    </tr>\n",
       "    <tr>\n",
       "      <th>Bonds-US</th>\n",
       "      <td>-0.000775</td>\n",
       "      <td>-0.000422</td>\n",
       "      <td>0.000000</td>\n",
       "      <td>0.000961</td>\n",
       "      <td>0.001017</td>\n",
       "      <td>0.001860</td>\n",
       "      <td>0.001246</td>\n",
       "    </tr>\n",
       "    <tr>\n",
       "      <th>Bonds-PriceLinked</th>\n",
       "      <td>0.000000</td>\n",
       "      <td>0.000558</td>\n",
       "      <td>0.001369</td>\n",
       "      <td>0.001017</td>\n",
       "      <td>0.001681</td>\n",
       "      <td>0.003075</td>\n",
       "      <td>0.002198</td>\n",
       "    </tr>\n",
       "    <tr>\n",
       "      <th>Gold</th>\n",
       "      <td>0.000000</td>\n",
       "      <td>0.002040</td>\n",
       "      <td>0.007515</td>\n",
       "      <td>0.001860</td>\n",
       "      <td>0.003075</td>\n",
       "      <td>0.022500</td>\n",
       "      <td>0.002010</td>\n",
       "    </tr>\n",
       "    <tr>\n",
       "      <th>RealEstate</th>\n",
       "      <td>0.010050</td>\n",
       "      <td>0.010934</td>\n",
       "      <td>0.011189</td>\n",
       "      <td>0.001246</td>\n",
       "      <td>0.002198</td>\n",
       "      <td>0.002010</td>\n",
       "      <td>0.017956</td>\n",
       "    </tr>\n",
       "  </tbody>\n",
       "</table>\n",
       "</div>"
      ],
      "text/plain": [
       "                   Stock-US  Stock-Jpn/EU  Stock-Emerging  Bonds-US  \\\n",
       "Stock-US           0.015625      0.015300        0.014612 -0.000775   \n",
       "Stock-Jpn/EU       0.015300      0.018496        0.018170 -0.000422   \n",
       "Stock-Emerging     0.014612      0.018170        0.027889  0.000000   \n",
       "Bonds-US          -0.000775     -0.000422        0.000000  0.000961   \n",
       "Bonds-PriceLinked  0.000000      0.000558        0.001369  0.001017   \n",
       "Gold               0.000000      0.002040        0.007515  0.001860   \n",
       "RealEstate         0.010050      0.010934        0.011189  0.001246   \n",
       "\n",
       "                   Bonds-PriceLinked      Gold  RealEstate  \n",
       "Stock-US                    0.000000  0.000000    0.010050  \n",
       "Stock-Jpn/EU                0.000558  0.002040    0.010934  \n",
       "Stock-Emerging              0.001369  0.007515    0.011189  \n",
       "Bonds-US                    0.001017  0.001860    0.001246  \n",
       "Bonds-PriceLinked           0.001681  0.003075    0.002198  \n",
       "Gold                        0.003075  0.022500    0.002010  \n",
       "RealEstate                  0.002198  0.002010    0.017956  "
      ]
     },
     "execution_count": 18,
     "metadata": {},
     "output_type": "execute_result"
    }
   ],
   "source": [
    "df = pd.DataFrame(cov, index = name, columns=name)\n",
    "df"
   ]
  },
  {
   "cell_type": "markdown",
   "metadata": {},
   "source": [
    "## Visualize asset classes"
   ]
  },
  {
   "cell_type": "code",
   "execution_count": 19,
   "metadata": {},
   "outputs": [],
   "source": [
    "#plt.rcParamsDefault"
   ]
  },
  {
   "cell_type": "code",
   "execution_count": 20,
   "metadata": {},
   "outputs": [],
   "source": [
    "# fontsize: xx-small, x-small, small, medium, large, x-large, xx-large\n",
    "params = {'legend.fontsize': 'x-large',\n",
    "          'figure.figsize': (8, 4),\n",
    "          'axes.labelsize': 'x-large',\n",
    "          'axes.titlesize':'x-large',\n",
    "          'xtick.labelsize':'x-large',\n",
    "          'ytick.labelsize':'x-large'}\n",
    "\n",
    "plt.rcParams.update(params)\n",
    "#plt.rcParams.update(plt.rcParamsDefault)"
   ]
  },
  {
   "cell_type": "code",
   "execution_count": 21,
   "metadata": {},
   "outputs": [
    {
     "data": {
      "image/png": "[encoded data removed]",
      "text/plain": [
       "<Figure size 576x288 with 1 Axes>"
      ]
     },
     "metadata": {
      "needs_background": "light"
     },
     "output_type": "display_data"
    }
   ],
   "source": [
    "# figureを生成\n",
    "fig = plt.figure()\n",
    "\n",
    "# axをfigureに設定\n",
    "ax = fig.add_subplot(1,1,1)\n",
    "\n",
    "ax.set_xlabel('risk (standard deviation) [%]')\n",
    "ax.set_ylabel('expected return [%]')\n",
    "#ax.set_xlim(xmin,xmax)\n",
    "#ax.set_ylim(ymin,ymax)\n",
    "ax.grid(True)\n",
    "\n",
    "for i,j,k in zip(risk, val, name):\n",
    "    ax.scatter(i*100, j*100, s=150, label=k)\n",
    "    #ax.annotate(k, xy=(i, j))\n",
    "    \n",
    "#ax.legend(loc='upper left', bbox_to_anchor=(1.01, 1), borderaxespad=0, fontsize=10, frameon=False)\n",
    "ax.legend(loc='lower center', bbox_to_anchor=(0.5, 1.02), borderaxespad=0, ncol=4, fontsize=10, frameon=False)\n",
    "\n",
    "plt.tight_layout()\n",
    "\n",
    "plt.savefig(\"assetclass.png\")"
   ]
  },
  {
   "cell_type": "code",
   "execution_count": 22,
   "metadata": {},
   "outputs": [
    {
     "data": {
      "image/png": "[encoded data removed]",
      "text/plain": [
       "<Figure size 576x288 with 2 Axes>"
      ]
     },
     "metadata": {
      "needs_background": "light"
     },
     "output_type": "display_data"
    }
   ],
   "source": [
    "# heatmap\n",
    "plt.figure()\n",
    "sns.heatmap(cor, annot=True, xticklabels=name, yticklabels=name, cmap='Blues', fmt='.2f')\n",
    "plt.tight_layout()\n",
    "plt.savefig(\"assetclass_heatmap.png\")"
   ]
  },
  {
   "cell_type": "markdown",
   "metadata": {},
   "source": [
    "## Optimize asset classes with upper and lower bounds (weights of each asset class must be between 5% ~ 35%)"
   ]
  },
  {
   "cell_type": "code",
   "execution_count": 23,
   "metadata": {},
   "outputs": [],
   "source": [
    "#　効率的フォロンティア (efficient frontier)を計算\n",
    "\n",
    "vmin, vmax, vdelta = 0.04, 0.07, 0.0001     #　要求リターン: 4% ~ 7%を0.1%刻みで計算\n",
    "trets = np.arange(vmin, vmax, vdelta)\n",
    "\n",
    "# 資産クラスの重みを一律に5% ~ 35%に設定\n",
    "ef = EfficientFrontier(val, df, weight_bounds=(0.05, 0.35))"
   ]
  },
  {
   "cell_type": "code",
   "execution_count": 24,
   "metadata": {},
   "outputs": [],
   "source": [
    "def calc_weight(ef, trets):\n",
    "\n",
    "    tvols = []\n",
    "    tweights = []\n",
    "    \n",
    "    for tr in trets:\n",
    "        w = ef.efficient_return(target_return=float(tr))\n",
    "        #print(tr, w)\n",
    "        w = pd.Series(w).values\n",
    "        v = np.sqrt(np.dot(w.T, np.dot(cov, w)))\n",
    "        tvols += [v]\n",
    "        tweights += [w]\n",
    "        \n",
    "    return tvols, tweights"
   ]
  },
  {
   "cell_type": "code",
   "execution_count": 25,
   "metadata": {},
   "outputs": [],
   "source": [
    "tvols, tweights = calc_weight(ef, trets)"
   ]
  },
  {
   "cell_type": "markdown",
   "metadata": {},
   "source": [
    "#### Plot"
   ]
  },
  {
   "cell_type": "code",
   "execution_count": 26,
   "metadata": {},
   "outputs": [
    {
     "data": {
      "image/png": "[encoded data removed]",
      "text/plain": [
       "<Figure size 576x288 with 1 Axes>"
      ]
     },
     "metadata": {
      "needs_background": "light"
     },
     "output_type": "display_data"
    }
   ],
   "source": [
    "# figureを生成\n",
    "fig = plt.figure()\n",
    "\n",
    "# axをfigureに設定\n",
    "ax = fig.add_subplot(1,1,1)\n",
    "\n",
    "\n",
    "#ax.set_title('各資産クラスの期待リターンとリスク')\n",
    "ax.set_xlabel('expected return')\n",
    "ax.set_ylabel('risk')\n",
    "ax.grid(True)\n",
    "\n",
    "\n",
    "for i,j,k in zip(risk, val, name):\n",
    "    ax.scatter(i, j, s=80, label=k)\n",
    "    \n",
    "ax.scatter(tvols, trets, marker=\"x\", s=20, c='k')\n",
    "ax.legend(loc='lower center', bbox_to_anchor=(0.5, 1.02), borderaxespad=0, ncol=4, fontsize=10, frameon=False)\n",
    "\n",
    "plt.tight_layout()\n",
    "\n",
    "plt.savefig(\"maximum_return_vs_risk.png\")"
   ]
  },
  {
   "cell_type": "code",
   "execution_count": 27,
   "metadata": {},
   "outputs": [],
   "source": [
    "def plot_portfolio(tweights, trets, name, ofile):\n",
    "\n",
    "    tweights = np.array(tweights) * 100\n",
    "    trets = trets * 100\n",
    "    \n",
    "    #dfWeights = pd.DataFrame(tweights, index = trets, columns = name)\n",
    "    #dfWeights = pd.DataFrame(np.array(tweights).clip(0), index = trets, columns = name)   # convert negative values in tweights to zero\n",
    "    dfWeights = pd.DataFrame(tweights.clip(0), index = trets, columns = name)   # convert negative values in tweights to zero\n",
    "    dfWeights.plot.area()\n",
    "\n",
    "    plt.xlabel(\"expected return [%]\")\n",
    "    plt.ylabel(\"weight [%]\")\n",
    "    plt.xlim(vmin*100,vmax*100)\n",
    "    plt.ylim([0,100])\n",
    "\n",
    "    plt.legend(loc='upper left', bbox_to_anchor=(1.01, 1), borderaxespad=0, fontsize=14, frameon=False)\n",
    "    #plt.legend(loc='lower center', bbox_to_anchor=(0.5, 1.02), borderaxespad=0, ncol=4, fontsize=10, frameon=False)\n",
    "\n",
    "    #plt.show()\n",
    "    #plt.savefig(\"assetclass_opt_portfolio.png\")\n",
    "    plt.savefig(ofile)\n",
    "    \n",
    "    return dfWeights"
   ]
  },
  {
   "cell_type": "code",
   "execution_count": 28,
   "metadata": {},
   "outputs": [
    {
     "data": {
      "image/png": "[encoded data removed]",
      "text/plain": [
       "<Figure size 576x288 with 1 Axes>"
      ]
     },
     "metadata": {
      "needs_background": "light"
     },
     "output_type": "display_data"
    }
   ],
   "source": [
    "filename = \"portfolio_with_bounds.png\"\n",
    "dfWeights = plot_portfolio(tweights, trets, name, filename)"
   ]
  },
  {
   "cell_type": "markdown",
   "metadata": {},
   "source": [
    "### check maximum return"
   ]
  },
  {
   "cell_type": "code",
   "execution_count": 29,
   "metadata": {},
   "outputs": [
    {
     "name": "stdout",
     "output_type": "stream",
     "text": [
      "Stock-US           maximum return:  35.00%    risk level: 5.55%\n",
      "Stock-Jpn/EU       maximum return:  23.13%    risk level: 6.81%\n",
      "Stock-Emerging     maximum return:  31.14%    risk level: 7.00%\n",
      "Bonds-US           maximum return:  35.00%    risk level: 4.00%\n",
      "Bonds-PriceLinked  maximum return:  28.91%    risk level: 4.00%\n",
      "Gold               maximum return:   6.61%    risk level: 6.80%\n",
      "RealEstate         maximum return:   5.00%    risk level: 4.00%\n"
     ]
    }
   ],
   "source": [
    "for n in name:\n",
    "    print(\"{:18s} maximum return: {:6.2f}%    risk level: {:4.2f}%\".format(n, np.round(dfWeights[n].max(),2), np.round(dfWeights[n].idxmax(),2)))"
   ]
  },
  {
   "cell_type": "code",
   "execution_count": 30,
   "metadata": {},
   "outputs": [
    {
     "data": {
      "text/plain": [
       "Stock-US             35.000000\n",
       "Stock-Jpn/EU          8.711244\n",
       "Stock-Emerging       12.977304\n",
       "Bonds-US             28.311452\n",
       "Bonds-PriceLinked     5.000000\n",
       "Gold                  5.000000\n",
       "RealEstate            5.000000\n",
       "Name: 5.550000000000044, dtype: float64"
      ]
     },
     "execution_count": 30,
     "metadata": {},
     "output_type": "execute_result"
    }
   ],
   "source": [
    "dfWeights.loc[dfWeights[\"Stock-US\"].idxmax()]"
   ]
  },
  {
   "cell_type": "markdown",
   "metadata": {},
   "source": [
    "## Optimize asset classes without upper and lower bounds"
   ]
  },
  {
   "cell_type": "code",
   "execution_count": 31,
   "metadata": {},
   "outputs": [],
   "source": [
    "#　効率的フォロンティア (efficient frontier)を計算\n",
    "\n",
    "vmin, vmax, vdelta = 0.03, 0.085, 0.001     #　要求リターン: 3% ~ 8.5%を0.1%刻みで計算\n",
    "trets = np.arange(vmin, vmax, vdelta)\n",
    "#print(trets)\n",
    "\n",
    "ef = EfficientFrontier(val, df)"
   ]
  },
  {
   "cell_type": "code",
   "execution_count": 32,
   "metadata": {},
   "outputs": [],
   "source": [
    "tvols, tweights = calc_weight(ef, trets)"
   ]
  },
  {
   "cell_type": "code",
   "execution_count": 33,
   "metadata": {},
   "outputs": [
    {
     "data": {
      "image/png": "[encoded data removed]",
      "text/plain": [
       "<Figure size 576x288 with 1 Axes>"
      ]
     },
     "metadata": {
      "needs_background": "light"
     },
     "output_type": "display_data"
    }
   ],
   "source": [
    "filename = \"portfolio_without_bounds.png\"\n",
    "dfWeights = plot_portfolio(tweights, trets, name, filename)"
   ]
  },
  {
   "cell_type": "markdown",
   "metadata": {},
   "source": [
    "#### check maximum return"
   ]
  },
  {
   "cell_type": "code",
   "execution_count": 34,
   "metadata": {},
   "outputs": [
    {
     "name": "stdout",
     "output_type": "stream",
     "text": [
      "Stock-US           maximum return:  48.89%    risk level: 7.30%\n",
      "Stock-Jpn/EU       maximum return:  39.75%    risk level: 8.10%\n",
      "Stock-Emerging     maximum return: 100.00%    risk level: 8.50%\n",
      "Bonds-US           maximum return:  85.71%    risk level: 3.00%\n",
      "Bonds-PriceLinked  maximum return:   0.00%    risk level: 3.00%\n",
      "Gold               maximum return:   8.57%    risk level: 7.30%\n",
      "RealEstate         maximum return:   0.00%    risk level: 3.00%\n"
     ]
    }
   ],
   "source": [
    "for n in name:\n",
    "    print(\"{:18s} maximum return: {:6.2f}%    risk level: {:4.2f}%\".format(n, np.round(dfWeights[n].max(),2), np.round(dfWeights[n].idxmax(),2)))"
   ]
  },
  {
   "cell_type": "code",
   "execution_count": 35,
   "metadata": {},
   "outputs": [
    {
     "data": {
      "text/plain": [
       "Stock-US             48.888842\n",
       "Stock-Jpn/EU         19.176462\n",
       "Stock-Emerging       23.231503\n",
       "Bonds-US              0.132218\n",
       "Bonds-PriceLinked     0.000000\n",
       "Gold                  8.570976\n",
       "RealEstate            0.000000\n",
       "Name: 7.300000000000003, dtype: float64"
      ]
     },
     "execution_count": 35,
     "metadata": {},
     "output_type": "execute_result"
    }
   ],
   "source": [
    "dfWeights.loc[dfWeights[\"Stock-US\"].idxmax()]"
   ]
  },
  {
   "cell_type": "code",
   "execution_count": null,
   "metadata": {},
   "outputs": [],
   "source": []
  }
 ],
 "metadata": {
  "kernelspec": {
   "display_name": "Python 3",
   "language": "python",
   "name": "python3"
  },
  "language_info": {
   "codemirror_mode": {
    "name": "ipython",
    "version": 3
   },
   "file_extension": ".py",
   "mimetype": "text/x-python",
   "name": "python",
   "nbconvert_exporter": "python",
   "pygments_lexer": "ipython3",
   "version": "3.8.5"
  }
 },
 "nbformat": 4,
 "nbformat_minor": 4
}
