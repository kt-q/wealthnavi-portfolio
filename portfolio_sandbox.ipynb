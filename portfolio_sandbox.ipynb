{
 "cells": [
  {
   "cell_type": "code",
   "execution_count": 1,
   "metadata": {},
   "outputs": [],
   "source": [
    "%matplotlib inline\n",
    "import os, sys, math\n",
    "import numpy as np\n",
    "import pandas as pd\n",
    "from matplotlib import pyplot as plt\n",
    "import seaborn as sns\n",
    "from pypfopt.efficient_frontier import EfficientFrontier"
   ]
  },
  {
   "cell_type": "markdown",
   "metadata": {},
   "source": [
    "## Load data"
   ]
  },
  {
   "cell_type": "code",
   "execution_count": 2,
   "metadata": {},
   "outputs": [],
   "source": [
    "# correlations between asset classes\n",
    "\n",
    "S = pd.read_csv('assetclass_correlation_202002.csv', index_col=0)"
   ]
  },
  {
   "cell_type": "code",
   "execution_count": 3,
   "metadata": {},
   "outputs": [
    {
     "data": {
      "text/html": [
       "<div>\n",
       "<style scoped>\n",
       "    .dataframe tbody tr th:only-of-type {\n",
       "        vertical-align: middle;\n",
       "    }\n",
       "\n",
       "    .dataframe tbody tr th {\n",
       "        vertical-align: top;\n",
       "    }\n",
       "\n",
       "    .dataframe thead th {\n",
       "        text-align: right;\n",
       "    }\n",
       "</style>\n",
       "<table border=\"1\" class=\"dataframe\">\n",
       "  <thead>\n",
       "    <tr style=\"text-align: right;\">\n",
       "      <th></th>\n",
       "      <th>Stock-US</th>\n",
       "      <th>Stock-Jpn/EU</th>\n",
       "      <th>Stock-Emerging</th>\n",
       "      <th>Bonds-US</th>\n",
       "      <th>Bonds-PriceLinked</th>\n",
       "      <th>Gold</th>\n",
       "      <th>RealEstate</th>\n",
       "    </tr>\n",
       "    <tr>\n",
       "      <th>Class</th>\n",
       "      <th></th>\n",
       "      <th></th>\n",
       "      <th></th>\n",
       "      <th></th>\n",
       "      <th></th>\n",
       "      <th></th>\n",
       "      <th></th>\n",
       "    </tr>\n",
       "  </thead>\n",
       "  <tbody>\n",
       "    <tr>\n",
       "      <th>Stock-US</th>\n",
       "      <td>1.0</td>\n",
       "      <td>0.9</td>\n",
       "      <td>0.7</td>\n",
       "      <td>-0.2</td>\n",
       "      <td>0.0</td>\n",
       "      <td>0.0</td>\n",
       "      <td>0.6</td>\n",
       "    </tr>\n",
       "    <tr>\n",
       "      <th>Stock-Jpn/EU</th>\n",
       "      <td>0.9</td>\n",
       "      <td>1.0</td>\n",
       "      <td>0.8</td>\n",
       "      <td>-0.1</td>\n",
       "      <td>0.1</td>\n",
       "      <td>0.1</td>\n",
       "      <td>0.6</td>\n",
       "    </tr>\n",
       "    <tr>\n",
       "      <th>Stock-Emerging</th>\n",
       "      <td>0.7</td>\n",
       "      <td>0.8</td>\n",
       "      <td>1.0</td>\n",
       "      <td>0.0</td>\n",
       "      <td>0.2</td>\n",
       "      <td>0.3</td>\n",
       "      <td>0.5</td>\n",
       "    </tr>\n",
       "    <tr>\n",
       "      <th>Bonds-US</th>\n",
       "      <td>-0.2</td>\n",
       "      <td>-0.1</td>\n",
       "      <td>0.0</td>\n",
       "      <td>1.0</td>\n",
       "      <td>0.8</td>\n",
       "      <td>0.4</td>\n",
       "      <td>0.3</td>\n",
       "    </tr>\n",
       "    <tr>\n",
       "      <th>Bonds-PriceLinked</th>\n",
       "      <td>0.0</td>\n",
       "      <td>0.1</td>\n",
       "      <td>0.2</td>\n",
       "      <td>0.8</td>\n",
       "      <td>1.0</td>\n",
       "      <td>0.5</td>\n",
       "      <td>0.4</td>\n",
       "    </tr>\n",
       "    <tr>\n",
       "      <th>Gold</th>\n",
       "      <td>0.0</td>\n",
       "      <td>0.1</td>\n",
       "      <td>0.3</td>\n",
       "      <td>0.4</td>\n",
       "      <td>0.5</td>\n",
       "      <td>1.0</td>\n",
       "      <td>0.1</td>\n",
       "    </tr>\n",
       "    <tr>\n",
       "      <th>RealEstate</th>\n",
       "      <td>0.6</td>\n",
       "      <td>0.6</td>\n",
       "      <td>0.5</td>\n",
       "      <td>0.3</td>\n",
       "      <td>0.4</td>\n",
       "      <td>0.1</td>\n",
       "      <td>1.0</td>\n",
       "    </tr>\n",
       "  </tbody>\n",
       "</table>\n",
       "</div>"
      ],
      "text/plain": [
       "                   Stock-US  Stock-Jpn/EU  Stock-Emerging  Bonds-US  \\\n",
       "Class                                                                 \n",
       "Stock-US                1.0           0.9             0.7      -0.2   \n",
       "Stock-Jpn/EU            0.9           1.0             0.8      -0.1   \n",
       "Stock-Emerging          0.7           0.8             1.0       0.0   \n",
       "Bonds-US               -0.2          -0.1             0.0       1.0   \n",
       "Bonds-PriceLinked       0.0           0.1             0.2       0.8   \n",
       "Gold                    0.0           0.1             0.3       0.4   \n",
       "RealEstate              0.6           0.6             0.5       0.3   \n",
       "\n",
       "                   Bonds-PriceLinked  Gold  RealEstate  \n",
       "Class                                                   \n",
       "Stock-US                         0.0   0.0         0.6  \n",
       "Stock-Jpn/EU                     0.1   0.1         0.6  \n",
       "Stock-Emerging                   0.2   0.3         0.5  \n",
       "Bonds-US                         0.8   0.4         0.3  \n",
       "Bonds-PriceLinked                1.0   0.5         0.4  \n",
       "Gold                             0.5   1.0         0.1  \n",
       "RealEstate                       0.4   0.1         1.0  "
      ]
     },
     "execution_count": 3,
     "metadata": {},
     "output_type": "execute_result"
    }
   ],
   "source": [
    "S"
   ]
  },
  {
   "cell_type": "code",
   "execution_count": 4,
   "metadata": {},
   "outputs": [
    {
     "data": {
      "text/plain": [
       "Index(['Stock-US', 'Stock-Jpn/EU', 'Stock-Emerging', 'Bonds-US',\n",
       "       'Bonds-PriceLinked', 'Gold', 'RealEstate'],\n",
       "      dtype='object', name='Class')"
      ]
     },
     "execution_count": 4,
     "metadata": {},
     "output_type": "execute_result"
    }
   ],
   "source": [
    "S.index"
   ]
  },
  {
   "cell_type": "code",
   "execution_count": 5,
   "metadata": {},
   "outputs": [
    {
     "data": {
      "text/html": [
       "<div>\n",
       "<style scoped>\n",
       "    .dataframe tbody tr th:only-of-type {\n",
       "        vertical-align: middle;\n",
       "    }\n",
       "\n",
       "    .dataframe tbody tr th {\n",
       "        vertical-align: top;\n",
       "    }\n",
       "\n",
       "    .dataframe thead th {\n",
       "        text-align: right;\n",
       "    }\n",
       "</style>\n",
       "<table border=\"1\" class=\"dataframe\">\n",
       "  <thead>\n",
       "    <tr style=\"text-align: right;\">\n",
       "      <th></th>\n",
       "      <th>Stock-US</th>\n",
       "      <th>Stock-Jpn/EU</th>\n",
       "      <th>Stock-Emerging</th>\n",
       "      <th>Bonds-US</th>\n",
       "      <th>Gold</th>\n",
       "      <th>RealEstate</th>\n",
       "    </tr>\n",
       "    <tr>\n",
       "      <th>Class</th>\n",
       "      <th></th>\n",
       "      <th></th>\n",
       "      <th></th>\n",
       "      <th></th>\n",
       "      <th></th>\n",
       "      <th></th>\n",
       "    </tr>\n",
       "  </thead>\n",
       "  <tbody>\n",
       "    <tr>\n",
       "      <th>Stock-US</th>\n",
       "      <td>1.0</td>\n",
       "      <td>0.9</td>\n",
       "      <td>0.7</td>\n",
       "      <td>-0.2</td>\n",
       "      <td>0.0</td>\n",
       "      <td>0.6</td>\n",
       "    </tr>\n",
       "    <tr>\n",
       "      <th>Stock-Jpn/EU</th>\n",
       "      <td>0.9</td>\n",
       "      <td>1.0</td>\n",
       "      <td>0.8</td>\n",
       "      <td>-0.1</td>\n",
       "      <td>0.1</td>\n",
       "      <td>0.6</td>\n",
       "    </tr>\n",
       "    <tr>\n",
       "      <th>Stock-Emerging</th>\n",
       "      <td>0.7</td>\n",
       "      <td>0.8</td>\n",
       "      <td>1.0</td>\n",
       "      <td>0.0</td>\n",
       "      <td>0.3</td>\n",
       "      <td>0.5</td>\n",
       "    </tr>\n",
       "    <tr>\n",
       "      <th>Bonds-US</th>\n",
       "      <td>-0.2</td>\n",
       "      <td>-0.1</td>\n",
       "      <td>0.0</td>\n",
       "      <td>1.0</td>\n",
       "      <td>0.4</td>\n",
       "      <td>0.3</td>\n",
       "    </tr>\n",
       "    <tr>\n",
       "      <th>Gold</th>\n",
       "      <td>0.0</td>\n",
       "      <td>0.1</td>\n",
       "      <td>0.3</td>\n",
       "      <td>0.4</td>\n",
       "      <td>1.0</td>\n",
       "      <td>0.1</td>\n",
       "    </tr>\n",
       "    <tr>\n",
       "      <th>RealEstate</th>\n",
       "      <td>0.6</td>\n",
       "      <td>0.6</td>\n",
       "      <td>0.5</td>\n",
       "      <td>0.3</td>\n",
       "      <td>0.1</td>\n",
       "      <td>1.0</td>\n",
       "    </tr>\n",
       "  </tbody>\n",
       "</table>\n",
       "</div>"
      ],
      "text/plain": [
       "                Stock-US  Stock-Jpn/EU  Stock-Emerging  Bonds-US  Gold  \\\n",
       "Class                                                                    \n",
       "Stock-US             1.0           0.9             0.7      -0.2   0.0   \n",
       "Stock-Jpn/EU         0.9           1.0             0.8      -0.1   0.1   \n",
       "Stock-Emerging       0.7           0.8             1.0       0.0   0.3   \n",
       "Bonds-US            -0.2          -0.1             0.0       1.0   0.4   \n",
       "Gold                 0.0           0.1             0.3       0.4   1.0   \n",
       "RealEstate           0.6           0.6             0.5       0.3   0.1   \n",
       "\n",
       "                RealEstate  \n",
       "Class                       \n",
       "Stock-US               0.6  \n",
       "Stock-Jpn/EU           0.6  \n",
       "Stock-Emerging         0.5  \n",
       "Bonds-US               0.3  \n",
       "Gold                   0.1  \n",
       "RealEstate             1.0  "
      ]
     },
     "execution_count": 5,
     "metadata": {},
     "output_type": "execute_result"
    }
   ],
   "source": [
    "S = S.drop(index='Bonds-PriceLinked').drop('Bonds-PriceLinked', axis='columns')\n",
    "S"
   ]
  },
  {
   "cell_type": "code",
   "execution_count": 6,
   "metadata": {},
   "outputs": [],
   "source": [
    "cor = S.values\n",
    "#print(S.shape)"
   ]
  },
  {
   "cell_type": "code",
   "execution_count": 7,
   "metadata": {},
   "outputs": [
    {
     "data": {
      "text/plain": [
       "array([[ 1. ,  0.9,  0.7, -0.2,  0. ,  0.6],\n",
       "       [ 0.9,  1. ,  0.8, -0.1,  0.1,  0.6],\n",
       "       [ 0.7,  0.8,  1. ,  0. ,  0.3,  0.5],\n",
       "       [-0.2, -0.1,  0. ,  1. ,  0.4,  0.3],\n",
       "       [ 0. ,  0.1,  0.3,  0.4,  1. ,  0.1],\n",
       "       [ 0.6,  0.6,  0.5,  0.3,  0.1,  1. ]])"
      ]
     },
     "execution_count": 7,
     "metadata": {},
     "output_type": "execute_result"
    }
   ],
   "source": [
    "cor"
   ]
  },
  {
   "cell_type": "code",
   "execution_count": 8,
   "metadata": {},
   "outputs": [],
   "source": [
    "name = list(S.columns.values)"
   ]
  },
  {
   "cell_type": "code",
   "execution_count": 9,
   "metadata": {},
   "outputs": [
    {
     "data": {
      "text/plain": [
       "['Stock-US',\n",
       " 'Stock-Jpn/EU',\n",
       " 'Stock-Emerging',\n",
       " 'Bonds-US',\n",
       " 'Gold',\n",
       " 'RealEstate']"
      ]
     },
     "execution_count": 9,
     "metadata": {},
     "output_type": "execute_result"
    }
   ],
   "source": [
    "name"
   ]
  },
  {
   "cell_type": "code",
   "execution_count": 10,
   "metadata": {},
   "outputs": [],
   "source": [
    "# risk of each class\n",
    "\n",
    "risk = {}\n",
    "risk[\"Stock-US\"] = 12.5/100\n",
    "risk[\"Stock-Jpn/EU\"] = 13.6/100\n",
    "risk[\"Stock-Emerging\"] = 16.7/100\n",
    "risk[\"Bonds-US\"] = 3.1/100\n",
    "#risk[\"Bonds-PriceLinked\"] = 4.1/100\n",
    "risk[\"Gold\"] = 15.0/100\n",
    "risk[\"RealEstate\"] = 13.4/100"
   ]
  },
  {
   "cell_type": "code",
   "execution_count": 11,
   "metadata": {},
   "outputs": [],
   "source": [
    "# convert to numpy array\n",
    "\n",
    "risk = np.array(list(risk.values()))\n",
    "#risk = risk.reshape(len(risk),1)\n",
    "#print(risk.shape)"
   ]
  },
  {
   "cell_type": "code",
   "execution_count": 12,
   "metadata": {},
   "outputs": [
    {
     "data": {
      "text/plain": [
       "array([0.125, 0.136, 0.167, 0.031, 0.15 , 0.134])"
      ]
     },
     "execution_count": 12,
     "metadata": {},
     "output_type": "execute_result"
    }
   ],
   "source": [
    "risk"
   ]
  },
  {
   "cell_type": "code",
   "execution_count": 13,
   "metadata": {},
   "outputs": [],
   "source": [
    "# expected return from each class\n",
    "\n",
    "val = {}\n",
    "val[\"Stock-US\"] = 7.2/100\n",
    "val[\"Stock-Jpn/EU\"] = 7.7/100\n",
    "val[\"Stock-Emerging\"] = (8.5+0.00000000001)/100\n",
    "val[\"Bonds-US\"] = 2.3/100\n",
    "#val[\"Bonds-PriceLinked\"] = 2.6/100\n",
    "val[\"Gold\"] = 3.8/100\n",
    "val[\"RealEstate\"] = 5.7/100"
   ]
  },
  {
   "cell_type": "code",
   "execution_count": 14,
   "metadata": {},
   "outputs": [],
   "source": [
    "# convert to numpy array\n",
    "\n",
    "val = np.array(list(val.values()))\n",
    "#val = val.reshape(len(val),1)\n",
    "#print(val.shape)"
   ]
  },
  {
   "cell_type": "code",
   "execution_count": 15,
   "metadata": {},
   "outputs": [
    {
     "data": {
      "text/plain": [
       "array([0.072, 0.077, 0.085, 0.023, 0.038, 0.057])"
      ]
     },
     "execution_count": 15,
     "metadata": {},
     "output_type": "execute_result"
    }
   ],
   "source": [
    "val"
   ]
  },
  {
   "cell_type": "markdown",
   "metadata": {},
   "source": [
    "## Visualize asset classes"
   ]
  },
  {
   "cell_type": "code",
   "execution_count": 16,
   "metadata": {},
   "outputs": [],
   "source": [
    "#plt.rcParamsDefault"
   ]
  },
  {
   "cell_type": "code",
   "execution_count": 17,
   "metadata": {},
   "outputs": [],
   "source": [
    "# fontsize: xx-small, x-small, small, medium, large, x-large, xx-large\n",
    "params = {'legend.fontsize': 'x-large',\n",
    "          'figure.figsize': (8, 4),\n",
    "          'axes.labelsize': 'x-large',\n",
    "          'axes.titlesize':'x-large',\n",
    "          'xtick.labelsize':'x-large',\n",
    "          'ytick.labelsize':'x-large'}\n",
    "\n",
    "plt.rcParams.update(params)\n",
    "#plt.rcParams.update(plt.rcParamsDefault)"
   ]
  },
  {
   "cell_type": "code",
   "execution_count": 18,
   "metadata": {},
   "outputs": [
    {
     "data": {
      "image/png": "[encoded data removed]",
      "text/plain": [
       "<Figure size 576x288 with 1 Axes>"
      ]
     },
     "metadata": {
      "needs_background": "light"
     },
     "output_type": "display_data"
    }
   ],
   "source": [
    "# figureを生成\n",
    "fig = plt.figure()\n",
    "\n",
    "# axをfigureに設定\n",
    "ax = fig.add_subplot(1,1,1)\n",
    "\n",
    "ax.set_xlabel('risk (standard deviation) [%]')\n",
    "ax.set_ylabel('expected return [%]')\n",
    "#ax.set_xlim(xmin,xmax)\n",
    "#ax.set_ylim(ymin,ymax)\n",
    "ax.grid(True)\n",
    "\n",
    "for i,j,k in zip(risk, val, name):\n",
    "    ax.scatter(i*100, j*100, s=150, label=k)\n",
    "    #ax.annotate(k, xy=(i, j))\n",
    "    \n",
    "#ax.legend(loc='upper left', bbox_to_anchor=(1.01, 1), borderaxespad=0, fontsize=10, frameon=False)\n",
    "ax.legend(loc='lower center', bbox_to_anchor=(0.5, 1.02), borderaxespad=0, ncol=4, fontsize=10, frameon=False)\n",
    "\n",
    "plt.tight_layout()\n",
    "\n",
    "plt.savefig(\"assetclass.png\")"
   ]
  },
  {
   "cell_type": "code",
   "execution_count": 19,
   "metadata": {},
   "outputs": [
    {
     "data": {
      "image/png": "[encoded data removed]",
      "text/plain": [
       "<Figure size 576x288 with 2 Axes>"
      ]
     },
     "metadata": {
      "needs_background": "light"
     },
     "output_type": "display_data"
    }
   ],
   "source": [
    "# heatmap\n",
    "plt.figure()\n",
    "sns.heatmap(cor, annot=True, xticklabels=name, yticklabels=name, cmap='Blues', fmt='.2f')\n",
    "plt.tight_layout()\n",
    "plt.savefig(\"assetclass_heatmap.png\")"
   ]
  },
  {
   "cell_type": "markdown",
   "metadata": {},
   "source": [
    "## Diagonalize risk vector and obtain covariance matrix using correlation matrix"
   ]
  },
  {
   "cell_type": "code",
   "execution_count": 20,
   "metadata": {},
   "outputs": [],
   "source": [
    "r_diag = np.diag(risk)"
   ]
  },
  {
   "cell_type": "code",
   "execution_count": 21,
   "metadata": {},
   "outputs": [
    {
     "data": {
      "text/plain": [
       "array([[0.125, 0.   , 0.   , 0.   , 0.   , 0.   ],\n",
       "       [0.   , 0.136, 0.   , 0.   , 0.   , 0.   ],\n",
       "       [0.   , 0.   , 0.167, 0.   , 0.   , 0.   ],\n",
       "       [0.   , 0.   , 0.   , 0.031, 0.   , 0.   ],\n",
       "       [0.   , 0.   , 0.   , 0.   , 0.15 , 0.   ],\n",
       "       [0.   , 0.   , 0.   , 0.   , 0.   , 0.134]])"
      ]
     },
     "execution_count": 21,
     "metadata": {},
     "output_type": "execute_result"
    }
   ],
   "source": [
    "r_diag"
   ]
  },
  {
   "cell_type": "code",
   "execution_count": 22,
   "metadata": {},
   "outputs": [],
   "source": [
    "cov = np.dot(np.dot(r_diag, cor), r_diag)"
   ]
  },
  {
   "cell_type": "code",
   "execution_count": 23,
   "metadata": {},
   "outputs": [
    {
     "data": {
      "text/plain": [
       "array([[ 0.015625 ,  0.0153   ,  0.0146125, -0.000775 ,  0.       ,\n",
       "         0.01005  ],\n",
       "       [ 0.0153   ,  0.018496 ,  0.0181696, -0.0004216,  0.00204  ,\n",
       "         0.0109344],\n",
       "       [ 0.0146125,  0.0181696,  0.027889 ,  0.       ,  0.007515 ,\n",
       "         0.011189 ],\n",
       "       [-0.000775 , -0.0004216,  0.       ,  0.000961 ,  0.00186  ,\n",
       "         0.0012462],\n",
       "       [ 0.       ,  0.00204  ,  0.007515 ,  0.00186  ,  0.0225   ,\n",
       "         0.00201  ],\n",
       "       [ 0.01005  ,  0.0109344,  0.011189 ,  0.0012462,  0.00201  ,\n",
       "         0.017956 ]])"
      ]
     },
     "execution_count": 23,
     "metadata": {},
     "output_type": "execute_result"
    }
   ],
   "source": [
    "cov"
   ]
  },
  {
   "cell_type": "code",
   "execution_count": 24,
   "metadata": {},
   "outputs": [
    {
     "data": {
      "text/html": [
       "<div>\n",
       "<style scoped>\n",
       "    .dataframe tbody tr th:only-of-type {\n",
       "        vertical-align: middle;\n",
       "    }\n",
       "\n",
       "    .dataframe tbody tr th {\n",
       "        vertical-align: top;\n",
       "    }\n",
       "\n",
       "    .dataframe thead th {\n",
       "        text-align: right;\n",
       "    }\n",
       "</style>\n",
       "<table border=\"1\" class=\"dataframe\">\n",
       "  <thead>\n",
       "    <tr style=\"text-align: right;\">\n",
       "      <th></th>\n",
       "      <th>Stock-US</th>\n",
       "      <th>Stock-Jpn/EU</th>\n",
       "      <th>Stock-Emerging</th>\n",
       "      <th>Bonds-US</th>\n",
       "      <th>Gold</th>\n",
       "      <th>RealEstate</th>\n",
       "    </tr>\n",
       "  </thead>\n",
       "  <tbody>\n",
       "    <tr>\n",
       "      <th>Stock-US</th>\n",
       "      <td>0.015625</td>\n",
       "      <td>0.015300</td>\n",
       "      <td>0.014612</td>\n",
       "      <td>-0.000775</td>\n",
       "      <td>0.000000</td>\n",
       "      <td>0.010050</td>\n",
       "    </tr>\n",
       "    <tr>\n",
       "      <th>Stock-Jpn/EU</th>\n",
       "      <td>0.015300</td>\n",
       "      <td>0.018496</td>\n",
       "      <td>0.018170</td>\n",
       "      <td>-0.000422</td>\n",
       "      <td>0.002040</td>\n",
       "      <td>0.010934</td>\n",
       "    </tr>\n",
       "    <tr>\n",
       "      <th>Stock-Emerging</th>\n",
       "      <td>0.014612</td>\n",
       "      <td>0.018170</td>\n",
       "      <td>0.027889</td>\n",
       "      <td>0.000000</td>\n",
       "      <td>0.007515</td>\n",
       "      <td>0.011189</td>\n",
       "    </tr>\n",
       "    <tr>\n",
       "      <th>Bonds-US</th>\n",
       "      <td>-0.000775</td>\n",
       "      <td>-0.000422</td>\n",
       "      <td>0.000000</td>\n",
       "      <td>0.000961</td>\n",
       "      <td>0.001860</td>\n",
       "      <td>0.001246</td>\n",
       "    </tr>\n",
       "    <tr>\n",
       "      <th>Gold</th>\n",
       "      <td>0.000000</td>\n",
       "      <td>0.002040</td>\n",
       "      <td>0.007515</td>\n",
       "      <td>0.001860</td>\n",
       "      <td>0.022500</td>\n",
       "      <td>0.002010</td>\n",
       "    </tr>\n",
       "    <tr>\n",
       "      <th>RealEstate</th>\n",
       "      <td>0.010050</td>\n",
       "      <td>0.010934</td>\n",
       "      <td>0.011189</td>\n",
       "      <td>0.001246</td>\n",
       "      <td>0.002010</td>\n",
       "      <td>0.017956</td>\n",
       "    </tr>\n",
       "  </tbody>\n",
       "</table>\n",
       "</div>"
      ],
      "text/plain": [
       "                Stock-US  Stock-Jpn/EU  Stock-Emerging  Bonds-US      Gold  \\\n",
       "Stock-US        0.015625      0.015300        0.014612 -0.000775  0.000000   \n",
       "Stock-Jpn/EU    0.015300      0.018496        0.018170 -0.000422  0.002040   \n",
       "Stock-Emerging  0.014612      0.018170        0.027889  0.000000  0.007515   \n",
       "Bonds-US       -0.000775     -0.000422        0.000000  0.000961  0.001860   \n",
       "Gold            0.000000      0.002040        0.007515  0.001860  0.022500   \n",
       "RealEstate      0.010050      0.010934        0.011189  0.001246  0.002010   \n",
       "\n",
       "                RealEstate  \n",
       "Stock-US          0.010050  \n",
       "Stock-Jpn/EU      0.010934  \n",
       "Stock-Emerging    0.011189  \n",
       "Bonds-US          0.001246  \n",
       "Gold              0.002010  \n",
       "RealEstate        0.017956  "
      ]
     },
     "execution_count": 24,
     "metadata": {},
     "output_type": "execute_result"
    }
   ],
   "source": [
    "df = pd.DataFrame(cov, index = name, columns=name)\n",
    "df"
   ]
  },
  {
   "cell_type": "markdown",
   "metadata": {},
   "source": [
    "## Optimize asset classes with upper and lower bounds (weights of each asset class must be between 5% ~ 35%)"
   ]
  },
  {
   "cell_type": "code",
   "execution_count": 25,
   "metadata": {},
   "outputs": [],
   "source": [
    "#　効率的フォロンティア (efficient frontier)を計算\n",
    "\n",
    "vmin, vmax, vdelta = 0.04, 0.07, 0.002     #　要求リターン: 4% ~ 7%を0.2%刻みで計算\n",
    "trets = np.arange(vmin, vmax+vdelta, vdelta)\n",
    "\n",
    "# 資産クラスの重みを一律に5% ~ 35%に設定\n",
    "ef = EfficientFrontier(val, df, weight_bounds=(0.05, 0.35))"
   ]
  },
  {
   "cell_type": "code",
   "execution_count": 26,
   "metadata": {},
   "outputs": [],
   "source": [
    "#ef.max_quadratic_utility(risk_aversion=4)"
   ]
  },
  {
   "cell_type": "code",
   "execution_count": 27,
   "metadata": {},
   "outputs": [],
   "source": [
    "def calc_weight(ef, trets):\n",
    "\n",
    "    tvols = []\n",
    "    tweights = []\n",
    "    \n",
    "    for tr in trets:\n",
    "        w = ef.efficient_return(target_return=float(tr))\n",
    "        #print(tr, w)\n",
    "        w = pd.Series(w).values\n",
    "        v = np.sqrt(np.dot(w.T, np.dot(cov, w)))\n",
    "        tvols += [v]\n",
    "        tweights += [w]\n",
    "        \n",
    "    return tvols, tweights"
   ]
  },
  {
   "cell_type": "code",
   "execution_count": 28,
   "metadata": {},
   "outputs": [],
   "source": [
    "tvols, tweights = calc_weight(ef, trets)"
   ]
  },
  {
   "cell_type": "markdown",
   "metadata": {},
   "source": [
    "#### Plot"
   ]
  },
  {
   "cell_type": "code",
   "execution_count": 29,
   "metadata": {},
   "outputs": [],
   "source": [
    "def plot_portfolio(tweights, trets, name, vmin, vmax, ofile):\n",
    "\n",
    "    tweights = np.array(tweights) * 100\n",
    "    trets = trets * 100\n",
    "    \n",
    "    #dfWeights = pd.DataFrame(tweights, index = trets, columns = name)\n",
    "    #dfWeights = pd.DataFrame(np.array(tweights).clip(0), index = trets, columns = name)   # convert negative values in tweights to zero\n",
    "    dfWeights = pd.DataFrame(tweights.clip(0), index = trets, columns = name)   # convert negative values in tweights to zero\n",
    "    dfWeights.plot.area()\n",
    "\n",
    "    plt.xlabel(\"expected return [%]\")\n",
    "    plt.ylabel(\"weight [%]\")\n",
    "    plt.xlim(vmin*100,vmax*100)\n",
    "    plt.ylim([0,100])\n",
    "\n",
    "    plt.legend(loc='upper left', bbox_to_anchor=(1.01, 1), borderaxespad=0, fontsize=14, frameon=False)\n",
    "    #plt.legend(loc='lower center', bbox_to_anchor=(0.5, 1.02), borderaxespad=0, ncol=4, fontsize=10, frameon=False)\n",
    "\n",
    "    plt.tight_layout()\n",
    "\n",
    "    #plt.show()\n",
    "    #plt.savefig(\"assetclass_opt_portfolio.png\")\n",
    "    plt.savefig(ofile)\n",
    "    \n",
    "    return dfWeights"
   ]
  },
  {
   "cell_type": "code",
   "execution_count": 30,
   "metadata": {},
   "outputs": [
    {
     "data": {
      "image/png": "[encoded data removed]",
      "text/plain": [
       "<Figure size 576x288 with 1 Axes>"
      ]
     },
     "metadata": {
      "needs_background": "light"
     },
     "output_type": "display_data"
    }
   ],
   "source": [
    "filename = \"weights_with_bounds.png\"\n",
    "dfWeights = plot_portfolio(tweights, trets, name, vmin, vmax, filename)"
   ]
  },
  {
   "cell_type": "markdown",
   "metadata": {},
   "source": [
    "#### volarity vs expected return from optimal portfolio"
   ]
  },
  {
   "cell_type": "code",
   "execution_count": 31,
   "metadata": {},
   "outputs": [],
   "source": [
    "volarity = np.array(tvols)*100\n",
    "expected_return = np.array(trets)*100"
   ]
  },
  {
   "cell_type": "code",
   "execution_count": 32,
   "metadata": {},
   "outputs": [
    {
     "data": {
      "image/png": "[encoded data removed]",
      "text/plain": [
       "<Figure size 576x288 with 1 Axes>"
      ]
     },
     "metadata": {
      "needs_background": "light"
     },
     "output_type": "display_data"
    }
   ],
   "source": [
    "# figureを生成\n",
    "fig = plt.figure()\n",
    "\n",
    "# axをfigureに設定\n",
    "ax = fig.add_subplot(1,1,1)\n",
    "\n",
    "ax.set_xlabel('risk (standard deviation) [%]')\n",
    "ax.set_ylabel('expected return [%]')\n",
    "ax.grid(True)\n",
    "\n",
    "for i,j,k in zip(risk, val, name):\n",
    "    ax.scatter(i*100, j*100, s=150, label=k)\n",
    "\n",
    "ax.scatter(volarity, expected_return, s=20, marker=\"x\", color=\"k\")\n",
    "ax.legend(loc='lower center', bbox_to_anchor=(0.5, 1.02), borderaxespad=0, ncol=4, fontsize=10, frameon=False)\n",
    "\n",
    "plt.tight_layout()\n",
    "\n",
    "plt.savefig(\"assetclass_ef_with_bounds.png\")\n",
    "#plt.show()"
   ]
  },
  {
   "cell_type": "markdown",
   "metadata": {},
   "source": [
    "### check maximum return"
   ]
  },
  {
   "cell_type": "code",
   "execution_count": 33,
   "metadata": {},
   "outputs": [
    {
     "name": "stdout",
     "output_type": "stream",
     "text": [
      "Stock-US           maximum return:  35.00%    risk level: 5.00%\n",
      "Stock-Jpn/EU       maximum return:  25.59%    risk level: 7.00%\n",
      "Stock-Emerging     maximum return:  29.40%    risk level: 7.20%\n",
      "Bonds-US           maximum return:  35.00%    risk level: 4.00%\n",
      "Gold               maximum return:  21.10%    risk level: 4.20%\n",
      "RealEstate         maximum return:   8.52%    risk level: 4.00%\n"
     ]
    }
   ],
   "source": [
    "for n in name:\n",
    "    print(\"{:18s} maximum return: {:6.2f}%    risk level: {:4.2f}%\".format(n, np.round(dfWeights[n].max(),2), np.round(dfWeights[n].idxmax(),2)))"
   ]
  },
  {
   "cell_type": "code",
   "execution_count": 34,
   "metadata": {},
   "outputs": [
    {
     "data": {
      "text/plain": [
       "Stock-US          35.00000\n",
       "Stock-Jpn/EU       5.25641\n",
       "Stock-Emerging     5.00000\n",
       "Bonds-US          35.00000\n",
       "Gold              14.74359\n",
       "RealEstate         5.00000\n",
       "Name: 5.000000000000001, dtype: float64"
      ]
     },
     "execution_count": 34,
     "metadata": {},
     "output_type": "execute_result"
    }
   ],
   "source": [
    "dfWeights.loc[dfWeights[\"Stock-US\"].idxmax()]"
   ]
  },
  {
   "cell_type": "code",
   "execution_count": 35,
   "metadata": {},
   "outputs": [
    {
     "data": {
      "text/html": [
       "<div>\n",
       "<style scoped>\n",
       "    .dataframe tbody tr th:only-of-type {\n",
       "        vertical-align: middle;\n",
       "    }\n",
       "\n",
       "    .dataframe tbody tr th {\n",
       "        vertical-align: top;\n",
       "    }\n",
       "\n",
       "    .dataframe thead th {\n",
       "        text-align: right;\n",
       "    }\n",
       "</style>\n",
       "<table border=\"1\" class=\"dataframe\">\n",
       "  <thead>\n",
       "    <tr style=\"text-align: right;\">\n",
       "      <th></th>\n",
       "      <th>Stock-US</th>\n",
       "      <th>Stock-Jpn/EU</th>\n",
       "      <th>Stock-Emerging</th>\n",
       "      <th>Bonds-US</th>\n",
       "      <th>Gold</th>\n",
       "      <th>RealEstate</th>\n",
       "    </tr>\n",
       "  </thead>\n",
       "  <tbody>\n",
       "    <tr>\n",
       "      <th>4.0</th>\n",
       "      <td>25.386497</td>\n",
       "      <td>5.000000</td>\n",
       "      <td>5.000000</td>\n",
       "      <td>35.000000</td>\n",
       "      <td>21.097547</td>\n",
       "      <td>8.515956</td>\n",
       "    </tr>\n",
       "    <tr>\n",
       "      <th>4.2</th>\n",
       "      <td>25.386497</td>\n",
       "      <td>5.000000</td>\n",
       "      <td>5.000000</td>\n",
       "      <td>35.000000</td>\n",
       "      <td>21.097547</td>\n",
       "      <td>8.515956</td>\n",
       "    </tr>\n",
       "    <tr>\n",
       "      <th>4.4</th>\n",
       "      <td>25.386497</td>\n",
       "      <td>5.000000</td>\n",
       "      <td>5.000000</td>\n",
       "      <td>35.000000</td>\n",
       "      <td>21.097547</td>\n",
       "      <td>8.515956</td>\n",
       "    </tr>\n",
       "    <tr>\n",
       "      <th>4.6</th>\n",
       "      <td>25.386497</td>\n",
       "      <td>5.000000</td>\n",
       "      <td>5.000000</td>\n",
       "      <td>35.000000</td>\n",
       "      <td>21.097547</td>\n",
       "      <td>8.515956</td>\n",
       "    </tr>\n",
       "    <tr>\n",
       "      <th>4.8</th>\n",
       "      <td>28.195326</td>\n",
       "      <td>5.000000</td>\n",
       "      <td>5.000000</td>\n",
       "      <td>35.000000</td>\n",
       "      <td>19.627889</td>\n",
       "      <td>7.176785</td>\n",
       "    </tr>\n",
       "    <tr>\n",
       "      <th>5.0</th>\n",
       "      <td>35.000000</td>\n",
       "      <td>5.256410</td>\n",
       "      <td>5.000000</td>\n",
       "      <td>35.000000</td>\n",
       "      <td>14.743590</td>\n",
       "      <td>5.000000</td>\n",
       "    </tr>\n",
       "    <tr>\n",
       "      <th>5.2</th>\n",
       "      <td>35.000000</td>\n",
       "      <td>8.796010</td>\n",
       "      <td>6.318204</td>\n",
       "      <td>35.000000</td>\n",
       "      <td>9.885786</td>\n",
       "      <td>5.000000</td>\n",
       "    </tr>\n",
       "    <tr>\n",
       "      <th>5.4</th>\n",
       "      <td>35.000000</td>\n",
       "      <td>8.011664</td>\n",
       "      <td>11.224364</td>\n",
       "      <td>35.000000</td>\n",
       "      <td>5.763972</td>\n",
       "      <td>5.000000</td>\n",
       "    </tr>\n",
       "    <tr>\n",
       "      <th>5.6</th>\n",
       "      <td>35.000000</td>\n",
       "      <td>9.294688</td>\n",
       "      <td>13.517530</td>\n",
       "      <td>32.187782</td>\n",
       "      <td>5.000000</td>\n",
       "      <td>5.000000</td>\n",
       "    </tr>\n",
       "    <tr>\n",
       "      <th>5.8</th>\n",
       "      <td>35.000000</td>\n",
       "      <td>11.507711</td>\n",
       "      <td>14.815865</td>\n",
       "      <td>28.676424</td>\n",
       "      <td>5.000000</td>\n",
       "      <td>5.000000</td>\n",
       "    </tr>\n",
       "    <tr>\n",
       "      <th>6.0</th>\n",
       "      <td>35.000000</td>\n",
       "      <td>13.763827</td>\n",
       "      <td>16.046948</td>\n",
       "      <td>25.066387</td>\n",
       "      <td>5.122839</td>\n",
       "      <td>5.000000</td>\n",
       "    </tr>\n",
       "    <tr>\n",
       "      <th>6.2</th>\n",
       "      <td>35.000000</td>\n",
       "      <td>16.129214</td>\n",
       "      <td>17.107499</td>\n",
       "      <td>21.206120</td>\n",
       "      <td>5.557167</td>\n",
       "      <td>5.000000</td>\n",
       "    </tr>\n",
       "    <tr>\n",
       "      <th>6.4</th>\n",
       "      <td>35.000000</td>\n",
       "      <td>18.494602</td>\n",
       "      <td>18.168049</td>\n",
       "      <td>17.345853</td>\n",
       "      <td>5.991496</td>\n",
       "      <td>5.000000</td>\n",
       "    </tr>\n",
       "    <tr>\n",
       "      <th>6.6</th>\n",
       "      <td>35.000000</td>\n",
       "      <td>20.859989</td>\n",
       "      <td>19.228600</td>\n",
       "      <td>13.485586</td>\n",
       "      <td>6.425825</td>\n",
       "      <td>5.000000</td>\n",
       "    </tr>\n",
       "    <tr>\n",
       "      <th>6.8</th>\n",
       "      <td>35.000000</td>\n",
       "      <td>23.225377</td>\n",
       "      <td>20.289151</td>\n",
       "      <td>9.625319</td>\n",
       "      <td>6.860153</td>\n",
       "      <td>5.000000</td>\n",
       "    </tr>\n",
       "    <tr>\n",
       "      <th>7.0</th>\n",
       "      <td>35.000000</td>\n",
       "      <td>25.590764</td>\n",
       "      <td>21.349701</td>\n",
       "      <td>5.765052</td>\n",
       "      <td>7.294482</td>\n",
       "      <td>5.000000</td>\n",
       "    </tr>\n",
       "    <tr>\n",
       "      <th>7.2</th>\n",
       "      <td>34.042692</td>\n",
       "      <td>21.555625</td>\n",
       "      <td>29.401683</td>\n",
       "      <td>5.000000</td>\n",
       "      <td>5.000000</td>\n",
       "      <td>5.000000</td>\n",
       "    </tr>\n",
       "  </tbody>\n",
       "</table>\n",
       "</div>"
      ],
      "text/plain": [
       "      Stock-US  Stock-Jpn/EU  Stock-Emerging   Bonds-US       Gold  RealEstate\n",
       "4.0  25.386497      5.000000        5.000000  35.000000  21.097547    8.515956\n",
       "4.2  25.386497      5.000000        5.000000  35.000000  21.097547    8.515956\n",
       "4.4  25.386497      5.000000        5.000000  35.000000  21.097547    8.515956\n",
       "4.6  25.386497      5.000000        5.000000  35.000000  21.097547    8.515956\n",
       "4.8  28.195326      5.000000        5.000000  35.000000  19.627889    7.176785\n",
       "5.0  35.000000      5.256410        5.000000  35.000000  14.743590    5.000000\n",
       "5.2  35.000000      8.796010        6.318204  35.000000   9.885786    5.000000\n",
       "5.4  35.000000      8.011664       11.224364  35.000000   5.763972    5.000000\n",
       "5.6  35.000000      9.294688       13.517530  32.187782   5.000000    5.000000\n",
       "5.8  35.000000     11.507711       14.815865  28.676424   5.000000    5.000000\n",
       "6.0  35.000000     13.763827       16.046948  25.066387   5.122839    5.000000\n",
       "6.2  35.000000     16.129214       17.107499  21.206120   5.557167    5.000000\n",
       "6.4  35.000000     18.494602       18.168049  17.345853   5.991496    5.000000\n",
       "6.6  35.000000     20.859989       19.228600  13.485586   6.425825    5.000000\n",
       "6.8  35.000000     23.225377       20.289151   9.625319   6.860153    5.000000\n",
       "7.0  35.000000     25.590764       21.349701   5.765052   7.294482    5.000000\n",
       "7.2  34.042692     21.555625       29.401683   5.000000   5.000000    5.000000"
      ]
     },
     "execution_count": 35,
     "metadata": {},
     "output_type": "execute_result"
    }
   ],
   "source": [
    "dfWeights.tail(20)"
   ]
  },
  {
   "cell_type": "code",
   "execution_count": 36,
   "metadata": {},
   "outputs": [],
   "source": [
    "v = np.array(dfWeights.tail(1)).flatten()"
   ]
  },
  {
   "cell_type": "code",
   "execution_count": 37,
   "metadata": {},
   "outputs": [],
   "source": [
    "label = list(dfWeights.columns)"
   ]
  },
  {
   "cell_type": "code",
   "execution_count": 38,
   "metadata": {},
   "outputs": [
    {
     "data": {
      "image/png": "[encoded data removed]",
      "text/plain": [
       "<Figure size 576x288 with 1 Axes>"
      ]
     },
     "metadata": {},
     "output_type": "display_data"
    }
   ],
   "source": [
    "plt.pie(v, labels=label, counterclock=False, startangle=90,\n",
    "        labeldistance=1.1, \n",
    "        autopct=lambda p:'{:.1f}'.format(p), \n",
    "        #autopct=\"%1.1f%%\",\n",
    "        pctdistance=0.75, \n",
    "        textprops={'color': \"white\", 'weight': \"bold\", 'fontsize': \"14\"},\n",
    "        wedgeprops={'linewidth': 1, 'edgecolor':\"white\"})\n",
    "\n",
    "plt.legend(bbox_to_anchor=(1.0, 0.25, 1.50, 0.5), loc=\"center left\", borderaxespad=0., frameon=False)\n",
    "plt.tight_layout()\n",
    "\n",
    "plt.savefig(\"portfolio_target_return_with_bounds.png\")"
   ]
  },
  {
   "cell_type": "markdown",
   "metadata": {},
   "source": [
    "## Optimize asset classes without upper and lower bounds"
   ]
  },
  {
   "cell_type": "code",
   "execution_count": 39,
   "metadata": {},
   "outputs": [],
   "source": [
    "#　効率的フォロンティア (efficient frontier)を計算\n",
    "\n",
    "vmin, vmax, vdelta = 0.04, 0.08, 0.002     #　要求リターン: 4% ~ 8%を0.2%刻みで計算\n",
    "trets = np.arange(vmin, vmax+vdelta, vdelta)\n",
    "#print(trets)\n",
    "\n",
    "ef = EfficientFrontier(val, df)"
   ]
  },
  {
   "cell_type": "code",
   "execution_count": 40,
   "metadata": {},
   "outputs": [],
   "source": [
    "tvols, tweights = calc_weight(ef, trets)"
   ]
  },
  {
   "cell_type": "code",
   "execution_count": 41,
   "metadata": {},
   "outputs": [
    {
     "data": {
      "image/png": "[encoded data removed]",
      "text/plain": [
       "<Figure size 576x288 with 1 Axes>"
      ]
     },
     "metadata": {
      "needs_background": "light"
     },
     "output_type": "display_data"
    }
   ],
   "source": [
    "filename = \"weights_without_bounds.png\"\n",
    "dfWeights = plot_portfolio(tweights, trets, name, vmin, vmax, filename)"
   ]
  },
  {
   "cell_type": "markdown",
   "metadata": {},
   "source": [
    "#### check maximum return"
   ]
  },
  {
   "cell_type": "code",
   "execution_count": 42,
   "metadata": {},
   "outputs": [
    {
     "name": "stdout",
     "output_type": "stream",
     "text": [
      "Stock-US           maximum return:  48.17%    risk level: 7.20%\n",
      "Stock-Jpn/EU       maximum return:  35.06%    risk level: 8.00%\n",
      "Stock-Emerging     maximum return:  48.05%    risk level: 8.00%\n",
      "Bonds-US           maximum return:  67.05%    risk level: 4.00%\n",
      "Gold               maximum return:   8.31%    risk level: 7.20%\n",
      "RealEstate         maximum return:   0.00%    risk level: 4.00%\n"
     ]
    }
   ],
   "source": [
    "for n in name:\n",
    "    print(\"{:18s} maximum return: {:6.2f}%    risk level: {:4.2f}%\".format(n, np.round(dfWeights[n].max(),2), np.round(dfWeights[n].idxmax(),2)))"
   ]
  },
  {
   "cell_type": "code",
   "execution_count": 43,
   "metadata": {},
   "outputs": [
    {
     "data": {
      "text/plain": [
       "Stock-US          48.172453\n",
       "Stock-Jpn/EU      18.649621\n",
       "Stock-Emerging    22.707416\n",
       "Bonds-US           2.163143\n",
       "Gold               8.307368\n",
       "RealEstate         0.000000\n",
       "Name: 7.200000000000004, dtype: float64"
      ]
     },
     "execution_count": 43,
     "metadata": {},
     "output_type": "execute_result"
    }
   ],
   "source": [
    "dfWeights.loc[dfWeights[\"Stock-US\"].idxmax()]"
   ]
  },
  {
   "cell_type": "code",
   "execution_count": 44,
   "metadata": {},
   "outputs": [
    {
     "data": {
      "text/html": [
       "<div>\n",
       "<style scoped>\n",
       "    .dataframe tbody tr th:only-of-type {\n",
       "        vertical-align: middle;\n",
       "    }\n",
       "\n",
       "    .dataframe tbody tr th {\n",
       "        vertical-align: top;\n",
       "    }\n",
       "\n",
       "    .dataframe thead th {\n",
       "        text-align: right;\n",
       "    }\n",
       "</style>\n",
       "<table border=\"1\" class=\"dataframe\">\n",
       "  <thead>\n",
       "    <tr style=\"text-align: right;\">\n",
       "      <th></th>\n",
       "      <th>Stock-US</th>\n",
       "      <th>Stock-Jpn/EU</th>\n",
       "      <th>Stock-Emerging</th>\n",
       "      <th>Bonds-US</th>\n",
       "      <th>Gold</th>\n",
       "      <th>RealEstate</th>\n",
       "    </tr>\n",
       "  </thead>\n",
       "  <tbody>\n",
       "    <tr>\n",
       "      <th>4.0</th>\n",
       "      <td>25.293277</td>\n",
       "      <td>1.793175</td>\n",
       "      <td>5.867709</td>\n",
       "      <td>67.045839</td>\n",
       "      <td>0.000000</td>\n",
       "      <td>0.0</td>\n",
       "    </tr>\n",
       "    <tr>\n",
       "      <th>4.2</th>\n",
       "      <td>26.680792</td>\n",
       "      <td>2.844388</td>\n",
       "      <td>6.984797</td>\n",
       "      <td>63.090902</td>\n",
       "      <td>0.399121</td>\n",
       "      <td>0.0</td>\n",
       "    </tr>\n",
       "    <tr>\n",
       "      <th>4.4</th>\n",
       "      <td>28.113569</td>\n",
       "      <td>3.898070</td>\n",
       "      <td>8.032972</td>\n",
       "      <td>59.029052</td>\n",
       "      <td>0.926337</td>\n",
       "      <td>0.0</td>\n",
       "    </tr>\n",
       "    <tr>\n",
       "      <th>4.6</th>\n",
       "      <td>29.546347</td>\n",
       "      <td>4.951752</td>\n",
       "      <td>9.081147</td>\n",
       "      <td>54.967201</td>\n",
       "      <td>1.453554</td>\n",
       "      <td>0.0</td>\n",
       "    </tr>\n",
       "    <tr>\n",
       "      <th>4.8</th>\n",
       "      <td>30.979124</td>\n",
       "      <td>6.005435</td>\n",
       "      <td>10.129321</td>\n",
       "      <td>50.905350</td>\n",
       "      <td>1.980770</td>\n",
       "      <td>0.0</td>\n",
       "    </tr>\n",
       "    <tr>\n",
       "      <th>5.0</th>\n",
       "      <td>32.411901</td>\n",
       "      <td>7.059117</td>\n",
       "      <td>11.177496</td>\n",
       "      <td>46.843500</td>\n",
       "      <td>2.507986</td>\n",
       "      <td>0.0</td>\n",
       "    </tr>\n",
       "    <tr>\n",
       "      <th>5.2</th>\n",
       "      <td>33.844679</td>\n",
       "      <td>8.112799</td>\n",
       "      <td>12.225670</td>\n",
       "      <td>42.781649</td>\n",
       "      <td>3.035203</td>\n",
       "      <td>0.0</td>\n",
       "    </tr>\n",
       "    <tr>\n",
       "      <th>5.4</th>\n",
       "      <td>35.277456</td>\n",
       "      <td>9.166481</td>\n",
       "      <td>13.273845</td>\n",
       "      <td>38.719798</td>\n",
       "      <td>3.562419</td>\n",
       "      <td>0.0</td>\n",
       "    </tr>\n",
       "    <tr>\n",
       "      <th>5.6</th>\n",
       "      <td>36.710234</td>\n",
       "      <td>10.220163</td>\n",
       "      <td>14.322019</td>\n",
       "      <td>34.657948</td>\n",
       "      <td>4.089636</td>\n",
       "      <td>0.0</td>\n",
       "    </tr>\n",
       "    <tr>\n",
       "      <th>5.8</th>\n",
       "      <td>38.143011</td>\n",
       "      <td>11.273845</td>\n",
       "      <td>15.370194</td>\n",
       "      <td>30.596097</td>\n",
       "      <td>4.616852</td>\n",
       "      <td>0.0</td>\n",
       "    </tr>\n",
       "    <tr>\n",
       "      <th>6.0</th>\n",
       "      <td>39.575789</td>\n",
       "      <td>12.327528</td>\n",
       "      <td>16.418368</td>\n",
       "      <td>26.534247</td>\n",
       "      <td>5.144069</td>\n",
       "      <td>0.0</td>\n",
       "    </tr>\n",
       "    <tr>\n",
       "      <th>6.2</th>\n",
       "      <td>41.008566</td>\n",
       "      <td>13.381210</td>\n",
       "      <td>17.466543</td>\n",
       "      <td>22.472396</td>\n",
       "      <td>5.671285</td>\n",
       "      <td>0.0</td>\n",
       "    </tr>\n",
       "    <tr>\n",
       "      <th>6.4</th>\n",
       "      <td>42.441343</td>\n",
       "      <td>14.434892</td>\n",
       "      <td>18.514717</td>\n",
       "      <td>18.410545</td>\n",
       "      <td>6.198502</td>\n",
       "      <td>0.0</td>\n",
       "    </tr>\n",
       "    <tr>\n",
       "      <th>6.6</th>\n",
       "      <td>43.874121</td>\n",
       "      <td>15.488574</td>\n",
       "      <td>19.562892</td>\n",
       "      <td>14.348695</td>\n",
       "      <td>6.725718</td>\n",
       "      <td>0.0</td>\n",
       "    </tr>\n",
       "    <tr>\n",
       "      <th>6.8</th>\n",
       "      <td>45.306898</td>\n",
       "      <td>16.542256</td>\n",
       "      <td>20.611067</td>\n",
       "      <td>10.286844</td>\n",
       "      <td>7.252935</td>\n",
       "      <td>0.0</td>\n",
       "    </tr>\n",
       "    <tr>\n",
       "      <th>7.0</th>\n",
       "      <td>46.739676</td>\n",
       "      <td>17.595938</td>\n",
       "      <td>21.659241</td>\n",
       "      <td>6.224994</td>\n",
       "      <td>7.780151</td>\n",
       "      <td>0.0</td>\n",
       "    </tr>\n",
       "    <tr>\n",
       "      <th>7.2</th>\n",
       "      <td>48.172453</td>\n",
       "      <td>18.649621</td>\n",
       "      <td>22.707416</td>\n",
       "      <td>2.163143</td>\n",
       "      <td>8.307368</td>\n",
       "      <td>0.0</td>\n",
       "    </tr>\n",
       "    <tr>\n",
       "      <th>7.4</th>\n",
       "      <td>47.721481</td>\n",
       "      <td>20.094898</td>\n",
       "      <td>25.399333</td>\n",
       "      <td>0.000000</td>\n",
       "      <td>6.784289</td>\n",
       "      <td>0.0</td>\n",
       "    </tr>\n",
       "    <tr>\n",
       "      <th>7.6</th>\n",
       "      <td>45.124406</td>\n",
       "      <td>21.986308</td>\n",
       "      <td>29.963919</td>\n",
       "      <td>0.000000</td>\n",
       "      <td>2.925367</td>\n",
       "      <td>0.0</td>\n",
       "    </tr>\n",
       "    <tr>\n",
       "      <th>7.8</th>\n",
       "      <td>38.038298</td>\n",
       "      <td>25.687767</td>\n",
       "      <td>36.273936</td>\n",
       "      <td>0.000000</td>\n",
       "      <td>0.000000</td>\n",
       "      <td>0.0</td>\n",
       "    </tr>\n",
       "    <tr>\n",
       "      <th>8.0</th>\n",
       "      <td>16.885440</td>\n",
       "      <td>35.061159</td>\n",
       "      <td>48.053400</td>\n",
       "      <td>0.000000</td>\n",
       "      <td>0.000000</td>\n",
       "      <td>0.0</td>\n",
       "    </tr>\n",
       "  </tbody>\n",
       "</table>\n",
       "</div>"
      ],
      "text/plain": [
       "      Stock-US  Stock-Jpn/EU  Stock-Emerging   Bonds-US      Gold  RealEstate\n",
       "4.0  25.293277      1.793175        5.867709  67.045839  0.000000         0.0\n",
       "4.2  26.680792      2.844388        6.984797  63.090902  0.399121         0.0\n",
       "4.4  28.113569      3.898070        8.032972  59.029052  0.926337         0.0\n",
       "4.6  29.546347      4.951752        9.081147  54.967201  1.453554         0.0\n",
       "4.8  30.979124      6.005435       10.129321  50.905350  1.980770         0.0\n",
       "5.0  32.411901      7.059117       11.177496  46.843500  2.507986         0.0\n",
       "5.2  33.844679      8.112799       12.225670  42.781649  3.035203         0.0\n",
       "5.4  35.277456      9.166481       13.273845  38.719798  3.562419         0.0\n",
       "5.6  36.710234     10.220163       14.322019  34.657948  4.089636         0.0\n",
       "5.8  38.143011     11.273845       15.370194  30.596097  4.616852         0.0\n",
       "6.0  39.575789     12.327528       16.418368  26.534247  5.144069         0.0\n",
       "6.2  41.008566     13.381210       17.466543  22.472396  5.671285         0.0\n",
       "6.4  42.441343     14.434892       18.514717  18.410545  6.198502         0.0\n",
       "6.6  43.874121     15.488574       19.562892  14.348695  6.725718         0.0\n",
       "6.8  45.306898     16.542256       20.611067  10.286844  7.252935         0.0\n",
       "7.0  46.739676     17.595938       21.659241   6.224994  7.780151         0.0\n",
       "7.2  48.172453     18.649621       22.707416   2.163143  8.307368         0.0\n",
       "7.4  47.721481     20.094898       25.399333   0.000000  6.784289         0.0\n",
       "7.6  45.124406     21.986308       29.963919   0.000000  2.925367         0.0\n",
       "7.8  38.038298     25.687767       36.273936   0.000000  0.000000         0.0\n",
       "8.0  16.885440     35.061159       48.053400   0.000000  0.000000         0.0"
      ]
     },
     "execution_count": 44,
     "metadata": {},
     "output_type": "execute_result"
    }
   ],
   "source": [
    "dfWeights"
   ]
  },
  {
   "cell_type": "code",
   "execution_count": 45,
   "metadata": {},
   "outputs": [],
   "source": [
    "v = np.array(dfWeights.tail(1)).flatten()"
   ]
  },
  {
   "cell_type": "code",
   "execution_count": 46,
   "metadata": {},
   "outputs": [],
   "source": [
    "label = list(dfWeights.columns)"
   ]
  },
  {
   "cell_type": "code",
   "execution_count": 47,
   "metadata": {},
   "outputs": [
    {
     "data": {
      "image/png": "[encoded data removed]",
      "text/plain": [
       "<Figure size 576x288 with 1 Axes>"
      ]
     },
     "metadata": {},
     "output_type": "display_data"
    }
   ],
   "source": [
    "plt.pie(v, labels=label, counterclock=False, startangle=90,\n",
    "        labeldistance=1.1, \n",
    "        autopct=lambda p:'{:.1f}'.format(p), \n",
    "        #autopct=\"%1.1f%%\",\n",
    "        pctdistance=0.75, \n",
    "        textprops={'color': \"white\", 'weight': \"bold\", 'fontsize': \"14\"},\n",
    "        wedgeprops={'linewidth': 1, 'edgecolor':\"white\"})\n",
    "\n",
    "plt.legend(bbox_to_anchor=(1.0, 0.25, 1.50, 0.5), loc=\"center left\", borderaxespad=0., frameon=False)\n",
    "plt.tight_layout()\n",
    "\n",
    "plt.savefig(\"portfolio_target_return_without_bounds.png\")\n",
    "#plt.show()"
   ]
  },
  {
   "cell_type": "code",
   "execution_count": null,
   "metadata": {},
   "outputs": [],
   "source": []
  }
 ],
 "metadata": {
  "kernelspec": {
   "display_name": "Python 3",
   "language": "python",
   "name": "python3"
  },
  "language_info": {
   "codemirror_mode": {
    "name": "ipython",
    "version": 3
   },
   "file_extension": ".py",
   "mimetype": "text/x-python",
   "name": "python",
   "nbconvert_exporter": "python",
   "pygments_lexer": "ipython3",
   "version": "3.8.5"
  }
 },
 "nbformat": 4,
 "nbformat_minor": 4
}
