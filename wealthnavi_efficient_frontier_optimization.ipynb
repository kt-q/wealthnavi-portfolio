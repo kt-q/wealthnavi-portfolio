{
 "cells": [
  {
   "cell_type": "markdown",
   "metadata": {},
   "source": [
    "# WealthNaviのポートフォリオ最適化\n",
    "\n",
    "#### 参考URL: https://datacoach.me/investment/long-inv/python-wealthnavi/\n",
    "\n",
    "\n",
    "\n",
    "[WealthNaviの資産運用アルゴリズム](https://www.wealthnavi.com/image/WealthNavi_WhitePaper.pdf)\n",
    "- 平均分散法によって資産クラスの最適化を行う\n",
    "- リスク許容度に応じた最適ポートフォリオは以下の（非線形）最大化問題の解となる資産配分比率(w)を求めることによって求まる\n",
    "\n",
    "$$\n",
    "max(\\mathbf{w})  \\quad  \\mathbf{r^T w} - \\frac{1}{2 \\lambda} \\mathbf{w^T \\Sigma w} \\\\\n",
    "s.t.  \\  \\mathbf{w^T 1}=1,  \\  a \\leqq \\mathbf{w} \\leqq b \\\\\n",
    "$$  \n",
    "\n",
    "$$\n",
    "\\begin{align}\n",
    "  & \\mathbf{r}: & &各資産クラスの期待リターン  \\\\\n",
    "  & \\mathbf{\\Sigma}: & &分散・共分散行列  \\\\\n",
    "  & \\mathbf{w}: & &各資産クラスへの配分比率  \\\\\n",
    "  & \\mathbf{\\lambda}: & &リスク許容度（1 - 5）に応じた係数  \\\\\n",
    "  & \\mathbf{a}: & &各銘柄への配分比率の下限  \\\\\n",
    "  & \\mathbf{b}: & &各銘柄への配分比率の上限  \\\\\n",
    "\\end{align}\n",
    "$$ \n",
    "\n",
    "\n",
    "\n",
    "#### 線形・非線形問題\n",
    "https://ajhjhaf.hatenablog.com/entry/2018/02/12/235015  \n",
    "https://ki-chi.jp/?p=582  \n",
    "https://longtweets.hatenablog.com/entry/2019/01/04/055820\n",
    "\n",
    "- PULP　（線形問題のみ）  \n",
    "    - https://coin-or.github.io/pulp/\n",
    "    - https://docs.pyq.jp/python/math_opt/pulp.html\n",
    "    - https://qiita.com/SaitoTsutomu/items/070ca9cb37c6b2b492f0\n",
    "- CYXOPT（非線形問題に対応）\n",
    "    - http://cvxopt.org/index.html\n",
    "    - https://qiita.com/ryoshi81/items/8b0c6add3e367f94c828\n",
    "- PyPortfolioOpt　（ポートフォリオ最適化問題に特化したパッケージ）\n",
    "    - https://pyportfolioopt.readthedocs.io/en/latest/index.html\n",
    "    - https://qiita.com/ryoshi81/items/c2445a5705b495002c1d\n",
    "    "
   ]
  },
  {
   "cell_type": "code",
   "execution_count": 1,
   "metadata": {},
   "outputs": [],
   "source": [
    "%matplotlib inline\n",
    "import os, sys, math\n",
    "import numpy as np\n",
    "import pandas as pd\n",
    "from matplotlib import pyplot as plt\n",
    "import seaborn as sns\n",
    "from pypfopt.efficient_frontier import EfficientFrontier"
   ]
  },
  {
   "cell_type": "markdown",
   "metadata": {},
   "source": [
    "## Load data"
   ]
  },
  {
   "cell_type": "code",
   "execution_count": 2,
   "metadata": {},
   "outputs": [],
   "source": [
    "# correlations between asset classes\n",
    "\n",
    "S = pd.read_csv('assetclass_correlation_202002.csv', index_col=0)"
   ]
  },
  {
   "cell_type": "code",
   "execution_count": 3,
   "metadata": {},
   "outputs": [
    {
     "data": {
      "text/html": [
       "<div>\n",
       "<style scoped>\n",
       "    .dataframe tbody tr th:only-of-type {\n",
       "        vertical-align: middle;\n",
       "    }\n",
       "\n",
       "    .dataframe tbody tr th {\n",
       "        vertical-align: top;\n",
       "    }\n",
       "\n",
       "    .dataframe thead th {\n",
       "        text-align: right;\n",
       "    }\n",
       "</style>\n",
       "<table border=\"1\" class=\"dataframe\">\n",
       "  <thead>\n",
       "    <tr style=\"text-align: right;\">\n",
       "      <th></th>\n",
       "      <th>Stock-US</th>\n",
       "      <th>Stock-Jpn/EU</th>\n",
       "      <th>Stock-Emerging</th>\n",
       "      <th>Bonds-US</th>\n",
       "      <th>Bonds-PriceLinked</th>\n",
       "      <th>Gold</th>\n",
       "      <th>RealEstate</th>\n",
       "    </tr>\n",
       "    <tr>\n",
       "      <th>Class</th>\n",
       "      <th></th>\n",
       "      <th></th>\n",
       "      <th></th>\n",
       "      <th></th>\n",
       "      <th></th>\n",
       "      <th></th>\n",
       "      <th></th>\n",
       "    </tr>\n",
       "  </thead>\n",
       "  <tbody>\n",
       "    <tr>\n",
       "      <th>Stock-US</th>\n",
       "      <td>1.0</td>\n",
       "      <td>0.9</td>\n",
       "      <td>0.7</td>\n",
       "      <td>-0.2</td>\n",
       "      <td>0.0</td>\n",
       "      <td>0.0</td>\n",
       "      <td>0.6</td>\n",
       "    </tr>\n",
       "    <tr>\n",
       "      <th>Stock-Jpn/EU</th>\n",
       "      <td>0.9</td>\n",
       "      <td>1.0</td>\n",
       "      <td>0.8</td>\n",
       "      <td>-0.1</td>\n",
       "      <td>0.1</td>\n",
       "      <td>0.1</td>\n",
       "      <td>0.6</td>\n",
       "    </tr>\n",
       "    <tr>\n",
       "      <th>Stock-Emerging</th>\n",
       "      <td>0.7</td>\n",
       "      <td>0.8</td>\n",
       "      <td>1.0</td>\n",
       "      <td>0.0</td>\n",
       "      <td>0.2</td>\n",
       "      <td>0.3</td>\n",
       "      <td>0.5</td>\n",
       "    </tr>\n",
       "    <tr>\n",
       "      <th>Bonds-US</th>\n",
       "      <td>-0.2</td>\n",
       "      <td>-0.1</td>\n",
       "      <td>0.0</td>\n",
       "      <td>1.0</td>\n",
       "      <td>0.8</td>\n",
       "      <td>0.4</td>\n",
       "      <td>0.3</td>\n",
       "    </tr>\n",
       "    <tr>\n",
       "      <th>Bonds-PriceLinked</th>\n",
       "      <td>0.0</td>\n",
       "      <td>0.1</td>\n",
       "      <td>0.2</td>\n",
       "      <td>0.8</td>\n",
       "      <td>1.0</td>\n",
       "      <td>0.5</td>\n",
       "      <td>0.4</td>\n",
       "    </tr>\n",
       "    <tr>\n",
       "      <th>Gold</th>\n",
       "      <td>0.0</td>\n",
       "      <td>0.1</td>\n",
       "      <td>0.3</td>\n",
       "      <td>0.4</td>\n",
       "      <td>0.5</td>\n",
       "      <td>1.0</td>\n",
       "      <td>0.1</td>\n",
       "    </tr>\n",
       "    <tr>\n",
       "      <th>RealEstate</th>\n",
       "      <td>0.6</td>\n",
       "      <td>0.6</td>\n",
       "      <td>0.5</td>\n",
       "      <td>0.3</td>\n",
       "      <td>0.4</td>\n",
       "      <td>0.1</td>\n",
       "      <td>1.0</td>\n",
       "    </tr>\n",
       "  </tbody>\n",
       "</table>\n",
       "</div>"
      ],
      "text/plain": [
       "                   Stock-US  Stock-Jpn/EU  Stock-Emerging  Bonds-US  \\\n",
       "Class                                                                 \n",
       "Stock-US                1.0           0.9             0.7      -0.2   \n",
       "Stock-Jpn/EU            0.9           1.0             0.8      -0.1   \n",
       "Stock-Emerging          0.7           0.8             1.0       0.0   \n",
       "Bonds-US               -0.2          -0.1             0.0       1.0   \n",
       "Bonds-PriceLinked       0.0           0.1             0.2       0.8   \n",
       "Gold                    0.0           0.1             0.3       0.4   \n",
       "RealEstate              0.6           0.6             0.5       0.3   \n",
       "\n",
       "                   Bonds-PriceLinked  Gold  RealEstate  \n",
       "Class                                                   \n",
       "Stock-US                         0.0   0.0         0.6  \n",
       "Stock-Jpn/EU                     0.1   0.1         0.6  \n",
       "Stock-Emerging                   0.2   0.3         0.5  \n",
       "Bonds-US                         0.8   0.4         0.3  \n",
       "Bonds-PriceLinked                1.0   0.5         0.4  \n",
       "Gold                             0.5   1.0         0.1  \n",
       "RealEstate                       0.4   0.1         1.0  "
      ]
     },
     "execution_count": 3,
     "metadata": {},
     "output_type": "execute_result"
    }
   ],
   "source": [
    "S"
   ]
  },
  {
   "cell_type": "code",
   "execution_count": 4,
   "metadata": {},
   "outputs": [
    {
     "data": {
      "text/plain": [
       "Index(['Stock-US', 'Stock-Jpn/EU', 'Stock-Emerging', 'Bonds-US',\n",
       "       'Bonds-PriceLinked', 'Gold', 'RealEstate'],\n",
       "      dtype='object', name='Class')"
      ]
     },
     "execution_count": 4,
     "metadata": {},
     "output_type": "execute_result"
    }
   ],
   "source": [
    "S.index"
   ]
  },
  {
   "cell_type": "code",
   "execution_count": 5,
   "metadata": {},
   "outputs": [
    {
     "data": {
      "text/html": [
       "<div>\n",
       "<style scoped>\n",
       "    .dataframe tbody tr th:only-of-type {\n",
       "        vertical-align: middle;\n",
       "    }\n",
       "\n",
       "    .dataframe tbody tr th {\n",
       "        vertical-align: top;\n",
       "    }\n",
       "\n",
       "    .dataframe thead th {\n",
       "        text-align: right;\n",
       "    }\n",
       "</style>\n",
       "<table border=\"1\" class=\"dataframe\">\n",
       "  <thead>\n",
       "    <tr style=\"text-align: right;\">\n",
       "      <th></th>\n",
       "      <th>Stock-US</th>\n",
       "      <th>Stock-Jpn/EU</th>\n",
       "      <th>Stock-Emerging</th>\n",
       "      <th>Bonds-US</th>\n",
       "      <th>Gold</th>\n",
       "      <th>RealEstate</th>\n",
       "    </tr>\n",
       "    <tr>\n",
       "      <th>Class</th>\n",
       "      <th></th>\n",
       "      <th></th>\n",
       "      <th></th>\n",
       "      <th></th>\n",
       "      <th></th>\n",
       "      <th></th>\n",
       "    </tr>\n",
       "  </thead>\n",
       "  <tbody>\n",
       "    <tr>\n",
       "      <th>Stock-US</th>\n",
       "      <td>1.0</td>\n",
       "      <td>0.9</td>\n",
       "      <td>0.7</td>\n",
       "      <td>-0.2</td>\n",
       "      <td>0.0</td>\n",
       "      <td>0.6</td>\n",
       "    </tr>\n",
       "    <tr>\n",
       "      <th>Stock-Jpn/EU</th>\n",
       "      <td>0.9</td>\n",
       "      <td>1.0</td>\n",
       "      <td>0.8</td>\n",
       "      <td>-0.1</td>\n",
       "      <td>0.1</td>\n",
       "      <td>0.6</td>\n",
       "    </tr>\n",
       "    <tr>\n",
       "      <th>Stock-Emerging</th>\n",
       "      <td>0.7</td>\n",
       "      <td>0.8</td>\n",
       "      <td>1.0</td>\n",
       "      <td>0.0</td>\n",
       "      <td>0.3</td>\n",
       "      <td>0.5</td>\n",
       "    </tr>\n",
       "    <tr>\n",
       "      <th>Bonds-US</th>\n",
       "      <td>-0.2</td>\n",
       "      <td>-0.1</td>\n",
       "      <td>0.0</td>\n",
       "      <td>1.0</td>\n",
       "      <td>0.4</td>\n",
       "      <td>0.3</td>\n",
       "    </tr>\n",
       "    <tr>\n",
       "      <th>Gold</th>\n",
       "      <td>0.0</td>\n",
       "      <td>0.1</td>\n",
       "      <td>0.3</td>\n",
       "      <td>0.4</td>\n",
       "      <td>1.0</td>\n",
       "      <td>0.1</td>\n",
       "    </tr>\n",
       "    <tr>\n",
       "      <th>RealEstate</th>\n",
       "      <td>0.6</td>\n",
       "      <td>0.6</td>\n",
       "      <td>0.5</td>\n",
       "      <td>0.3</td>\n",
       "      <td>0.1</td>\n",
       "      <td>1.0</td>\n",
       "    </tr>\n",
       "  </tbody>\n",
       "</table>\n",
       "</div>"
      ],
      "text/plain": [
       "                Stock-US  Stock-Jpn/EU  Stock-Emerging  Bonds-US  Gold  \\\n",
       "Class                                                                    \n",
       "Stock-US             1.0           0.9             0.7      -0.2   0.0   \n",
       "Stock-Jpn/EU         0.9           1.0             0.8      -0.1   0.1   \n",
       "Stock-Emerging       0.7           0.8             1.0       0.0   0.3   \n",
       "Bonds-US            -0.2          -0.1             0.0       1.0   0.4   \n",
       "Gold                 0.0           0.1             0.3       0.4   1.0   \n",
       "RealEstate           0.6           0.6             0.5       0.3   0.1   \n",
       "\n",
       "                RealEstate  \n",
       "Class                       \n",
       "Stock-US               0.6  \n",
       "Stock-Jpn/EU           0.6  \n",
       "Stock-Emerging         0.5  \n",
       "Bonds-US               0.3  \n",
       "Gold                   0.1  \n",
       "RealEstate             1.0  "
      ]
     },
     "execution_count": 5,
     "metadata": {},
     "output_type": "execute_result"
    }
   ],
   "source": [
    "S = S.drop(index='Bonds-PriceLinked').drop('Bonds-PriceLinked', axis='columns')\n",
    "S"
   ]
  },
  {
   "cell_type": "code",
   "execution_count": 6,
   "metadata": {},
   "outputs": [],
   "source": [
    "cor = S.values\n",
    "#print(S.shape)"
   ]
  },
  {
   "cell_type": "code",
   "execution_count": 7,
   "metadata": {},
   "outputs": [
    {
     "data": {
      "text/plain": [
       "array([[ 1. ,  0.9,  0.7, -0.2,  0. ,  0.6],\n",
       "       [ 0.9,  1. ,  0.8, -0.1,  0.1,  0.6],\n",
       "       [ 0.7,  0.8,  1. ,  0. ,  0.3,  0.5],\n",
       "       [-0.2, -0.1,  0. ,  1. ,  0.4,  0.3],\n",
       "       [ 0. ,  0.1,  0.3,  0.4,  1. ,  0.1],\n",
       "       [ 0.6,  0.6,  0.5,  0.3,  0.1,  1. ]])"
      ]
     },
     "execution_count": 7,
     "metadata": {},
     "output_type": "execute_result"
    }
   ],
   "source": [
    "cor"
   ]
  },
  {
   "cell_type": "code",
   "execution_count": 8,
   "metadata": {},
   "outputs": [],
   "source": [
    "name = list(S.columns.values)"
   ]
  },
  {
   "cell_type": "code",
   "execution_count": 9,
   "metadata": {},
   "outputs": [
    {
     "data": {
      "text/plain": [
       "['Stock-US',\n",
       " 'Stock-Jpn/EU',\n",
       " 'Stock-Emerging',\n",
       " 'Bonds-US',\n",
       " 'Gold',\n",
       " 'RealEstate']"
      ]
     },
     "execution_count": 9,
     "metadata": {},
     "output_type": "execute_result"
    }
   ],
   "source": [
    "name"
   ]
  },
  {
   "cell_type": "code",
   "execution_count": 10,
   "metadata": {},
   "outputs": [],
   "source": [
    "# risk of each class\n",
    "\n",
    "risk = {}\n",
    "risk[\"Stock-US\"] = 12.5/100\n",
    "risk[\"Stock-Jpn/EU\"] = 13.6/100\n",
    "risk[\"Stock-Emerging\"] = 16.7/100\n",
    "risk[\"Bonds-US\"] = 3.1/100\n",
    "#risk[\"Bonds-PriceLinked\"] = 4.1/100\n",
    "risk[\"Gold\"] = 15.0/100\n",
    "risk[\"RealEstate\"] = 13.4/100"
   ]
  },
  {
   "cell_type": "code",
   "execution_count": 11,
   "metadata": {},
   "outputs": [],
   "source": [
    "# convert to numpy array\n",
    "\n",
    "risk = np.array(list(risk.values()))\n",
    "#risk = risk.reshape(len(risk),1)\n",
    "#print(risk.shape)"
   ]
  },
  {
   "cell_type": "code",
   "execution_count": 12,
   "metadata": {},
   "outputs": [
    {
     "data": {
      "text/plain": [
       "array([0.125, 0.136, 0.167, 0.031, 0.15 , 0.134])"
      ]
     },
     "execution_count": 12,
     "metadata": {},
     "output_type": "execute_result"
    }
   ],
   "source": [
    "risk"
   ]
  },
  {
   "cell_type": "code",
   "execution_count": 13,
   "metadata": {},
   "outputs": [],
   "source": [
    "# expected return from each class\n",
    "\n",
    "val = {}\n",
    "val[\"Stock-US\"] = 7.2/100\n",
    "val[\"Stock-Jpn/EU\"] = 7.7/100\n",
    "val[\"Stock-Emerging\"] = (8.5+0.00000000001)/100\n",
    "val[\"Bonds-US\"] = 2.3/100\n",
    "#val[\"Bonds-PriceLinked\"] = 2.6/100\n",
    "val[\"Gold\"] = 3.8/100\n",
    "val[\"RealEstate\"] = 5.7/100"
   ]
  },
  {
   "cell_type": "code",
   "execution_count": 14,
   "metadata": {},
   "outputs": [],
   "source": [
    "# convert to numpy array\n",
    "\n",
    "val = np.array(list(val.values()))\n",
    "#val = val.reshape(len(val),1)\n",
    "#print(val.shape)"
   ]
  },
  {
   "cell_type": "code",
   "execution_count": 15,
   "metadata": {},
   "outputs": [
    {
     "data": {
      "text/plain": [
       "array([0.072, 0.077, 0.085, 0.023, 0.038, 0.057])"
      ]
     },
     "execution_count": 15,
     "metadata": {},
     "output_type": "execute_result"
    }
   ],
   "source": [
    "val"
   ]
  },
  {
   "cell_type": "markdown",
   "metadata": {},
   "source": [
    "## Diagonalize risk vector and obtain covariance matrix using correlation matrix"
   ]
  },
  {
   "cell_type": "code",
   "execution_count": 16,
   "metadata": {},
   "outputs": [],
   "source": [
    "r_diag = np.diag(risk)"
   ]
  },
  {
   "cell_type": "code",
   "execution_count": 17,
   "metadata": {},
   "outputs": [
    {
     "data": {
      "text/plain": [
       "array([[0.125, 0.   , 0.   , 0.   , 0.   , 0.   ],\n",
       "       [0.   , 0.136, 0.   , 0.   , 0.   , 0.   ],\n",
       "       [0.   , 0.   , 0.167, 0.   , 0.   , 0.   ],\n",
       "       [0.   , 0.   , 0.   , 0.031, 0.   , 0.   ],\n",
       "       [0.   , 0.   , 0.   , 0.   , 0.15 , 0.   ],\n",
       "       [0.   , 0.   , 0.   , 0.   , 0.   , 0.134]])"
      ]
     },
     "execution_count": 17,
     "metadata": {},
     "output_type": "execute_result"
    }
   ],
   "source": [
    "r_diag"
   ]
  },
  {
   "cell_type": "code",
   "execution_count": 18,
   "metadata": {},
   "outputs": [],
   "source": [
    "cov = np.dot(np.dot(r_diag, cor), r_diag)"
   ]
  },
  {
   "cell_type": "code",
   "execution_count": 19,
   "metadata": {},
   "outputs": [
    {
     "data": {
      "text/plain": [
       "array([[ 0.015625 ,  0.0153   ,  0.0146125, -0.000775 ,  0.       ,\n",
       "         0.01005  ],\n",
       "       [ 0.0153   ,  0.018496 ,  0.0181696, -0.0004216,  0.00204  ,\n",
       "         0.0109344],\n",
       "       [ 0.0146125,  0.0181696,  0.027889 ,  0.       ,  0.007515 ,\n",
       "         0.011189 ],\n",
       "       [-0.000775 , -0.0004216,  0.       ,  0.000961 ,  0.00186  ,\n",
       "         0.0012462],\n",
       "       [ 0.       ,  0.00204  ,  0.007515 ,  0.00186  ,  0.0225   ,\n",
       "         0.00201  ],\n",
       "       [ 0.01005  ,  0.0109344,  0.011189 ,  0.0012462,  0.00201  ,\n",
       "         0.017956 ]])"
      ]
     },
     "execution_count": 19,
     "metadata": {},
     "output_type": "execute_result"
    }
   ],
   "source": [
    "cov"
   ]
  },
  {
   "cell_type": "code",
   "execution_count": 20,
   "metadata": {},
   "outputs": [
    {
     "data": {
      "text/html": [
       "<div>\n",
       "<style scoped>\n",
       "    .dataframe tbody tr th:only-of-type {\n",
       "        vertical-align: middle;\n",
       "    }\n",
       "\n",
       "    .dataframe tbody tr th {\n",
       "        vertical-align: top;\n",
       "    }\n",
       "\n",
       "    .dataframe thead th {\n",
       "        text-align: right;\n",
       "    }\n",
       "</style>\n",
       "<table border=\"1\" class=\"dataframe\">\n",
       "  <thead>\n",
       "    <tr style=\"text-align: right;\">\n",
       "      <th></th>\n",
       "      <th>Stock-US</th>\n",
       "      <th>Stock-Jpn/EU</th>\n",
       "      <th>Stock-Emerging</th>\n",
       "      <th>Bonds-US</th>\n",
       "      <th>Gold</th>\n",
       "      <th>RealEstate</th>\n",
       "    </tr>\n",
       "  </thead>\n",
       "  <tbody>\n",
       "    <tr>\n",
       "      <th>Stock-US</th>\n",
       "      <td>0.015625</td>\n",
       "      <td>0.015300</td>\n",
       "      <td>0.014612</td>\n",
       "      <td>-0.000775</td>\n",
       "      <td>0.000000</td>\n",
       "      <td>0.010050</td>\n",
       "    </tr>\n",
       "    <tr>\n",
       "      <th>Stock-Jpn/EU</th>\n",
       "      <td>0.015300</td>\n",
       "      <td>0.018496</td>\n",
       "      <td>0.018170</td>\n",
       "      <td>-0.000422</td>\n",
       "      <td>0.002040</td>\n",
       "      <td>0.010934</td>\n",
       "    </tr>\n",
       "    <tr>\n",
       "      <th>Stock-Emerging</th>\n",
       "      <td>0.014612</td>\n",
       "      <td>0.018170</td>\n",
       "      <td>0.027889</td>\n",
       "      <td>0.000000</td>\n",
       "      <td>0.007515</td>\n",
       "      <td>0.011189</td>\n",
       "    </tr>\n",
       "    <tr>\n",
       "      <th>Bonds-US</th>\n",
       "      <td>-0.000775</td>\n",
       "      <td>-0.000422</td>\n",
       "      <td>0.000000</td>\n",
       "      <td>0.000961</td>\n",
       "      <td>0.001860</td>\n",
       "      <td>0.001246</td>\n",
       "    </tr>\n",
       "    <tr>\n",
       "      <th>Gold</th>\n",
       "      <td>0.000000</td>\n",
       "      <td>0.002040</td>\n",
       "      <td>0.007515</td>\n",
       "      <td>0.001860</td>\n",
       "      <td>0.022500</td>\n",
       "      <td>0.002010</td>\n",
       "    </tr>\n",
       "    <tr>\n",
       "      <th>RealEstate</th>\n",
       "      <td>0.010050</td>\n",
       "      <td>0.010934</td>\n",
       "      <td>0.011189</td>\n",
       "      <td>0.001246</td>\n",
       "      <td>0.002010</td>\n",
       "      <td>0.017956</td>\n",
       "    </tr>\n",
       "  </tbody>\n",
       "</table>\n",
       "</div>"
      ],
      "text/plain": [
       "                Stock-US  Stock-Jpn/EU  Stock-Emerging  Bonds-US      Gold  \\\n",
       "Stock-US        0.015625      0.015300        0.014612 -0.000775  0.000000   \n",
       "Stock-Jpn/EU    0.015300      0.018496        0.018170 -0.000422  0.002040   \n",
       "Stock-Emerging  0.014612      0.018170        0.027889  0.000000  0.007515   \n",
       "Bonds-US       -0.000775     -0.000422        0.000000  0.000961  0.001860   \n",
       "Gold            0.000000      0.002040        0.007515  0.001860  0.022500   \n",
       "RealEstate      0.010050      0.010934        0.011189  0.001246  0.002010   \n",
       "\n",
       "                RealEstate  \n",
       "Stock-US          0.010050  \n",
       "Stock-Jpn/EU      0.010934  \n",
       "Stock-Emerging    0.011189  \n",
       "Bonds-US          0.001246  \n",
       "Gold              0.002010  \n",
       "RealEstate        0.017956  "
      ]
     },
     "execution_count": 20,
     "metadata": {},
     "output_type": "execute_result"
    }
   ],
   "source": [
    "df = pd.DataFrame(cov, index = name, columns=name)\n",
    "df"
   ]
  },
  {
   "cell_type": "markdown",
   "metadata": {},
   "source": [
    "## Optimize asset classes with upper and lower bounds (weights of each asset class must be between 5% ~ 35%)"
   ]
  },
  {
   "cell_type": "code",
   "execution_count": 21,
   "metadata": {},
   "outputs": [],
   "source": [
    "# 資産クラスの重みを一律に5% ~ 35%に設定\n",
    "ef = EfficientFrontier(val, df, weight_bounds=(0.05, 0.35))"
   ]
  },
  {
   "cell_type": "code",
   "execution_count": 22,
   "metadata": {},
   "outputs": [
    {
     "name": "stdout",
     "output_type": "stream",
     "text": [
      "sigma: 3.3333333333333335\n"
     ]
    }
   ],
   "source": [
    "coeff = 0.3\n",
    "\n",
    "sigma = 1/coeff\n",
    "print(\"sigma: {}\".format(sigma))\n",
    "\n",
    "weights = ef.max_quadratic_utility(risk_aversion= sigma)"
   ]
  },
  {
   "cell_type": "code",
   "execution_count": 23,
   "metadata": {},
   "outputs": [
    {
     "data": {
      "text/plain": [
       "OrderedDict([('Stock-US', 0.35),\n",
       "             ('Stock-Jpn/EU', 0.2515115769744572),\n",
       "             ('Stock-Emerging', 0.2484884230255429),\n",
       "             ('Bonds-US', 0.05),\n",
       "             ('Gold', 0.05),\n",
       "             ('RealEstate', 0.05)])"
      ]
     },
     "execution_count": 23,
     "metadata": {},
     "output_type": "execute_result"
    }
   ],
   "source": [
    "weights"
   ]
  },
  {
   "cell_type": "code",
   "execution_count": 24,
   "metadata": {},
   "outputs": [
    {
     "name": "stdout",
     "output_type": "stream",
     "text": [
      "Expected annual return: 7.2%\n",
      "Annual volatility: 11.6%\n",
      "Sharpe Ratio: 0.44\n"
     ]
    },
    {
     "data": {
      "text/plain": [
       "(0.0715879073842292, 0.11639116150819273, 0.44322873589158174)"
      ]
     },
     "execution_count": 24,
     "metadata": {},
     "output_type": "execute_result"
    }
   ],
   "source": [
    "ef.portfolio_performance(verbose=True, risk_free_rate=0.02)"
   ]
  },
  {
   "cell_type": "code",
   "execution_count": 25,
   "metadata": {},
   "outputs": [
    {
     "name": "stdout",
     "output_type": "stream",
     "text": [
      "[0.35, 0.2515115769744572, 0.2484884230255429, 0.05, 0.05, 0.05]\n"
     ]
    }
   ],
   "source": [
    "v = list(weights.values())\n",
    "print(v)"
   ]
  },
  {
   "cell_type": "code",
   "execution_count": 26,
   "metadata": {},
   "outputs": [
    {
     "name": "stdout",
     "output_type": "stream",
     "text": [
      "['Stock-US', 'Stock-Jpn/EU', 'Stock-Emerging', 'Bonds-US', 'Gold', 'RealEstate']\n"
     ]
    }
   ],
   "source": [
    "label = list(df.columns)\n",
    "print(label)"
   ]
  },
  {
   "cell_type": "code",
   "execution_count": 27,
   "metadata": {},
   "outputs": [],
   "source": [
    "# fontsize: xx-small, x-small, small, medium, large, x-large, xx-large\n",
    "params = {'legend.fontsize': 'x-large',\n",
    "          'figure.figsize': (8, 4),\n",
    "          'axes.labelsize': 'x-large',\n",
    "          'axes.titlesize':'x-large',\n",
    "          'xtick.labelsize':'x-large',\n",
    "          'ytick.labelsize':'x-large'}\n",
    "\n",
    "plt.rcParams.update(params)\n",
    "#plt.rcParams.update(plt.rcParamsDefault)"
   ]
  },
  {
   "cell_type": "code",
   "execution_count": 28,
   "metadata": {},
   "outputs": [
    {
     "data": {
      "image/png": "[encoded data removed]",
      "text/plain": [
       "<Figure size 576x288 with 1 Axes>"
      ]
     },
     "metadata": {},
     "output_type": "display_data"
    }
   ],
   "source": [
    "plt.pie(v, labels=label, counterclock=False, startangle=90,\n",
    "        labeldistance=1.1, \n",
    "        autopct=lambda p:'{:.1f}'.format(p), \n",
    "        #autopct=\"%1.1f%%\",\n",
    "        pctdistance=0.75, \n",
    "        textprops={'color': \"white\", 'weight': \"bold\", 'fontsize': \"14\"},\n",
    "        wedgeprops={'linewidth': 1, 'edgecolor':\"white\"})\n",
    "\n",
    "plt.legend(bbox_to_anchor=(1.0, 0.25, 1.50, 0.5), loc=\"center left\", borderaxespad=0., frameon=False)\n",
    "plt.tight_layout()\n",
    "\n",
    "plt.savefig(\"wealthnavi_opt_portfolio_with_bounds_lambda_0.3.png\")\n",
    "#plt.show()"
   ]
  },
  {
   "cell_type": "code",
   "execution_count": null,
   "metadata": {},
   "outputs": [],
   "source": []
  }
 ],
 "metadata": {
  "kernelspec": {
   "display_name": "Python 3",
   "language": "python",
   "name": "python3"
  },
  "language_info": {
   "codemirror_mode": {
    "name": "ipython",
    "version": 3
   },
   "file_extension": ".py",
   "mimetype": "text/x-python",
   "name": "python",
   "nbconvert_exporter": "python",
   "pygments_lexer": "ipython3",
   "version": "3.8.5"
  }
 },
 "nbformat": 4,
 "nbformat_minor": 4
}
